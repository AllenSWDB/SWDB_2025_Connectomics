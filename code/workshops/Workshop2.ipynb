{
 "cells": [
  {
   "cell_type": "markdown",
   "id": "437efd94-93bf-4afe-86a7-4b00362b72eb",
   "metadata": {},
   "source": [
    "# Workshop 2: Connectivity principles and structure function analysis\n",
    "\n",
    "<div style=\"border-left: 3px solid #000; padding: 1px; padding-left: 10px; background: #F0FAFF; \">\n",
    "   \n",
    "<font size=4> The function of the nervous system arises out of a combination of the properties of individual neurons and the properties of how they are connected into a larger network. The central goal of <b>connectomics</b> is to produce complete maps of the connectivity of the nervous system with synaptic resolution and analyze them to better understand the organization, development, and function of the nervous system. </font>\n",
    "\n",
    "<font size=4><b>Electron Microscopy (EM) data enables morphological reconstruction of neurons and resolution of their synaptic connectivity </b>. The V1DD dataset is one of the largest volume EM datasets currently available, and spans all layers of mouse visual cortex. We will be using this dataset to query the connectivity between neurons in the visual cortex. </font>\n",
    "\n",
    "<b> The V1DD dataset is newly public. </b> Previous years of this course have used the [MICrONS Dataset](https://www.microns-explorer.org/), which is also a cubic millimeter volume of mouse visual cortex. Both datasets are available for the use of this course, but we will cover V1DD in Week 1.\n",
    "\n",
    "<h3> Workshop aims</h3>\n",
    "<ul>\n",
    "    <li> Understand what are the major classes of cell types in cortex</li>\n",
    "    <li> Understand the basics of how synaptic connectivity is measured in EM connectomics</li>\n",
    "    <li> Look at the relationship between the structure of networks and cell type connectivity</li>\n",
    "    <li> Look at the relationship between functional tuning properties of neurons and how they are connected in the network </li>\n",
    "</ul>\n",
    "\n",
    "\n",
    "In this workshop, we explore different two principles that govern how neurons are connected with each other. We will look how\n",
    "\n",
    "<ol> \n",
    "    <li>spatial distance between neurons</li>\n",
    "    <li>correlation of acitivity traces during specific stimuli </li>\n",
    "</ol>\n",
    "\n",
    "are related to neuron-to-neuron connectivity. We will then use the insigts about the relationship between neuron-neuron distance and connectivity to build a new NULL model for the structure-function analysis."
   ]
  },
  {
   "cell_type": "markdown",
   "id": "5dea4770-40eb-4122-8b44-2471616af90b",
   "metadata": {},
   "source": [
    "<div style=\"border-left: 3px solid #000; padding: 1px; padding-left: 10px; background: #F0FAFF; \">\n",
    "\n",
    "This cell sets up a variable called `data_root` that generalizes the data directory across systems, whether you are using CodeOcean or the prepared data drives\n",
    "\n",
    "</div>"
   ]
  },
  {
   "cell_type": "code",
   "execution_count": null,
   "id": "cecfa2d2-7d98-4e85-b092-44d2164df24b",
   "metadata": {},
   "outputs": [],
   "source": [
    "import sys\n",
    "from os.path import join as pjoin\n",
    "import platform\n",
    "\n",
    "# Add the directory for the data and utilities\n",
    "mat_version = 1196\n",
    "\n",
    "platstring = platform.platform()\n",
    "system = platform.system()\n",
    "if system == \"Darwin\":\n",
    "    # macOS\n",
    "    data_root = \"/Volumes/Brain2025/\"\n",
    "elif system == \"Windows\":\n",
    "    # Windows (replace with the drive letter of USB drive)\n",
    "    data_root = \"E:/\"\n",
    "elif \"amzn\" in platstring:\n",
    "    # then on CodeOcean\n",
    "    data_root = \"/data/\"\n",
    "else:\n",
    "    # then your own linux platform\n",
    "    # EDIT location where you mounted hard drive\n",
    "    data_root = \"/media/$USERNAME/Brain2025/\"\n",
    "\n",
    "# Set the directory to load prepared data and utility code\n",
    "data_dir = pjoin(data_root, f\"v1dd_{mat_version}\")\n",
    "utils_dir = pjoin(\"..\", \"utils\")\n",
    "\n",
    "# Add utilities to path\n",
    "sys.path.append(utils_dir)\n",
    "\n",
    "from utils import filter_synapse_table"
   ]
  },
  {
   "cell_type": "markdown",
   "id": "8b2635ff-e78d-45de-96ba-a0ebf1742845",
   "metadata": {},
   "source": [
    "<div style=\"border-left: 3px solid #000; padding: 1px; padding-left: 10px; background: #F0FAFF; \">\n",
    "\n",
    "<h2> Import packages </h2>"
   ]
  },
  {
   "cell_type": "code",
   "execution_count": null,
   "id": "616aa012-a101-4c8e-ba4e-a53655aaaf08",
   "metadata": {},
   "outputs": [],
   "source": [
    "import pandas as pd\n",
    "import numpy as np\n",
    "from matplotlib import pyplot as plt\n",
    "import seaborn as sns\n",
    "import itertools\n",
    "from typing import Union, Optional\n",
    "from scipy import stats, spatial\n",
    "import itertools\n",
    "import tqdm\n",
    "from os.path import join as pjoin\n",
    "import collections"
   ]
  },
  {
   "cell_type": "markdown",
   "id": "b66db1c9-06f3-4f75-b635-5e5e98a0e0ec",
   "metadata": {},
   "source": [
    "<div style=\"border-left: 3px solid #000; padding: 1px; padding-left: 10px; background: #F0FAFF; \">\n",
    "\n",
    "## Preparation\n",
    "\n",
    "First, we are loading data files that were introduced in the first workshop such as the synapse and cell tables, and information about proofreading. This workshop does not require the CAVEclient."
   ]
  },
  {
   "cell_type": "code",
   "execution_count": null,
   "id": "6d7d685f-3628-4064-87a4-5dcc4aa909d9",
   "metadata": {},
   "outputs": [],
   "source": [
    "# Loads cells with axon and dendrite proofreading\n",
    "dendrite_proof_root_ids = np.load(pjoin(data_dir, f'proofread_dendrite_list_{mat_version}.npy'))\n",
    "axon_proof_root_ids = np.load(pjoin(data_dir, f'proofread_axon_list_{mat_version}.npy'))\n",
    "\n",
    "print(f'There are {len(dendrite_proof_root_ids)} cells with acceptable dendrites, and {len(axon_proof_root_ids)} cells with axon proofreading')\n",
    "print(f'The number of cells with usable axons and dendrites is: {len(np.isin(axon_proof_root_ids, dendrite_proof_root_ids))}')"
   ]
  },
  {
   "cell_type": "code",
   "execution_count": null,
   "id": "9af8d169-c646-49bb-900b-88d8fcc55245",
   "metadata": {},
   "outputs": [],
   "source": [
    "syn_df = pd.read_feather(f\"{data_dir}/syn_df_all_to_proofread_to_all_{mat_version}.feather\")\n",
    "cell_df = pd.read_feather(f\"{data_dir}/soma_and_cell_type_{mat_version}.feather\")"
   ]
  },
  {
   "cell_type": "markdown",
   "id": "fd73c35d-33f6-4cee-9ea2-3012fe8ac8b3",
   "metadata": {},
   "source": [
    "<div style=\"border-left: 3px solid #000; padding: 1px; padding-left: 10px; background: #F0FAFF; \">\n",
    "\n",
    "The cell dataframe contains coordinates for all cells in nanometers. For convenience, we convert those to µm."
   ]
  },
  {
   "cell_type": "code",
   "execution_count": null,
   "id": "ddfdde7e-841e-428f-8d19-7dc18a5312d6",
   "metadata": {},
   "outputs": [],
   "source": [
    "cell_df[[col for col in cell_df.columns if \"position\" in col]] /= 1000."
   ]
  },
  {
   "cell_type": "markdown",
   "id": "2fdb6003-62ed-4d92-aab5-ae105363d636",
   "metadata": {},
   "source": [
    "<div style=\"border-left: 3px solid #000; padding: 1px; padding-left: 10px; background: #F0FAFF; \">\n",
    "\n",
    "Let's remind us of the cell types available to us"
   ]
  },
  {
   "cell_type": "code",
   "execution_count": null,
   "id": "1dce9d56-067d-498f-a660-1c7c2ca1042a",
   "metadata": {},
   "outputs": [],
   "source": [
    "cell_df[\"cell_type\"].value_counts()"
   ]
  },
  {
   "cell_type": "markdown",
   "id": "9737cf35-edd1-4405-b6e9-4ffccaff945c",
   "metadata": {},
   "source": [
    "<div style=\"border-left: 3px solid #000; padding: 1px; padding-left: 10px; background: #F0FAFF; \">\n",
    "\n",
    "## #1: Connection probability vs distance\n",
    "\n",
    "In this section we will relate connectivity to the distance between two neurons, that is the distance between their soma. We will restrict our analysis to L3-IT pyramidal neurons."
   ]
  },
  {
   "cell_type": "code",
   "execution_count": null,
   "id": "24f3e9a2-942c-43e4-9631-baf39efafa1d",
   "metadata": {},
   "outputs": [],
   "source": [
    "sub_cell_df = cell_df[cell_df[\"cell_type\"] == \"L3-IT\"]"
   ]
  },
  {
   "cell_type": "markdown",
   "id": "1a9835c3-27c2-4577-8794-671fc0a28a96",
   "metadata": {},
   "source": [
    "<div style=\"border-left: 3px solid #000; padding: 1px; padding-left: 10px; background: #F0FAFF; \">\n",
    "\n",
    "The dataset was not imaged in a perfectly upright position. We corrected for that and created the `*trform*` columns for each neuron position. We will use these for our analysis. However, to find neurons in neuroglancer, one has to still use the not-transformed positions."
   ]
  },
  {
   "cell_type": "code",
   "execution_count": null,
   "id": "b715bf81-7b09-4068-a0cb-1c6e21b80e1c",
   "metadata": {},
   "outputs": [],
   "source": [
    "sub_cell_df.head(5)"
   ]
  },
  {
   "cell_type": "code",
   "execution_count": null,
   "id": "81c8d6cd-4de0-4f02-9fd8-182e5d967d7c",
   "metadata": {},
   "outputs": [],
   "source": [
    "fig, ax = plt.subplots(figsize=(8, 8))\n",
    "\n",
    "ax.scatter(data=sub_cell_df, x=\"pt_position_trform_x\", y=\"pt_position_trform_z\", c=\"k\", s=1)\n",
    "\n",
    "ax.tick_params(axis='both', which='major', labelsize=15, width=2, length=8)  # Set larger tick labels\n",
    "ax.tick_params(axis='both', which='minor', labelsize=14, width=1, length=4)  # Set larger tick labels\n",
    "\n",
    "ax.spines['top'].set_visible(False)  # Hide the top spine\n",
    "ax.spines['right'].set_visible(False)  # Hide the right spine\n",
    "ax.spines['bottom'].set_linewidth(2)  # Hide the top spine\n",
    "ax.spines['left'].set_linewidth(2)  # Hide the right spine\n",
    "\n",
    "ax.set_xlabel(\"Soma location x [µm]\", fontsize=15)\n",
    "ax.set_ylabel(\"Soma location z [µm]\", fontsize=15)\n",
    "\n",
    "plt.show()"
   ]
  },
  {
   "cell_type": "markdown",
   "id": "bbc9bf97-ca5c-42d7-b71c-c3bfaa657775",
   "metadata": {},
   "source": [
    "<div style=\"background: #DFF0D8; border-radius: 3px; padding: 10px;\">\n",
    "\n",
    "<p><b>Task:</b> Are the proofread neurons evenly distributed throughout the dataset? Filter the \"sub_cell_df\" down to just those cells with proofread axons and plot them on top of the locations of all L3-IT cells.\n",
    "\n",
    "</div>"
   ]
  },
  {
   "cell_type": "code",
   "execution_count": null,
   "id": "d19b5743-936c-46f8-9fa1-b1ba11772d82",
   "metadata": {},
   "outputs": [],
   "source": [
    "# Hint: keep ids that are also in by axon_proof_root_ids"
   ]
  },
  {
   "cell_type": "markdown",
   "id": "305454f3-4804-4e01-8921-e19d850d02fd",
   "metadata": {},
   "source": [
    "<div style=\"border-left: 3px solid #000; padding: 1px; padding-left: 10px; background: #F0FAFF; \">\n",
    "\n",
    "To test whether distance and connectedness are correlated, we calculate the _lateral_ distance between pairs of neurons. The _lateral_ distance ignores cortical depth. For a pair of neurons the lateral distance can be calculated as the norm of the difference of their coordinates (in µm):"
   ]
  },
  {
   "cell_type": "code",
   "execution_count": null,
   "id": "c9a13bbe-4db8-4d3c-9381-7c86eac89f99",
   "metadata": {},
   "outputs": [],
   "source": [
    "pos_cols = [\"pt_position_trform_x\", \"pt_position_trform_z\"]\n",
    "\n",
    "difference = sub_cell_df.iloc[0][pos_cols] - sub_cell_df.iloc[1][pos_cols]\n",
    "np.linalg.norm(difference)"
   ]
  },
  {
   "cell_type": "markdown",
   "id": "49b6d158-9652-481d-9df2-20008e106464",
   "metadata": {},
   "source": [
    "<div style=\"border-left: 3px solid #000; padding: 1px; padding-left: 10px; background: #F0FAFF; \">\n",
    "\n",
    "This function computes the lateral distances across all neurons efficiently."
   ]
  },
  {
   "cell_type": "code",
   "execution_count": null,
   "id": "fbe977ab-8add-472f-9766-6cfadb64e3b9",
   "metadata": {},
   "outputs": [],
   "source": [
    "def calculate_lateral_distances(pre_cell_df, post_cell_df=None):\n",
    "    \"\"\" Calculates the lateral distances in µm between all neurons.\"\"\"\n",
    "    if post_cell_df is None:\n",
    "        post_cell_df = pre_cell_df\n",
    "    \n",
    "    pre_lateral_locations = np.array(pre_cell_df[[\"pt_position_trform_x\", \"pt_position_trform_z\"]])\n",
    "    post_lateral_locations = np.array(post_cell_df[[\"pt_position_trform_x\", \"pt_position_trform_z\"]])\n",
    "    lateral_distances = spatial.distance.cdist(pre_lateral_locations, post_lateral_locations)\n",
    "    \n",
    "    id_pairs = list(itertools.product(pre_cell_df[\"pt_root_id\"], post_cell_df[\"pt_root_id\"]))\n",
    "    \n",
    "    lateral_distance_df = pd.DataFrame(id_pairs, columns=['pre_pt_root_id', 'post_pt_root_id'])\n",
    "    lateral_distance_df['distance'] = lateral_distances.flatten()\n",
    "\n",
    "    lateral_distance_df = lateral_distance_df[lateral_distance_df['pre_pt_root_id'] != lateral_distance_df['post_pt_root_id']]\n",
    "    return lateral_distance_df"
   ]
  },
  {
   "cell_type": "code",
   "execution_count": null,
   "id": "35338c13-5805-4fe8-beb9-18dc489b664b",
   "metadata": {},
   "outputs": [],
   "source": [
    "# This will take a minute to complete\n",
    "lateral_distance_df = calculate_lateral_distances(sub_cell_df)\n",
    "lateral_distance_df.head(5)"
   ]
  },
  {
   "cell_type": "code",
   "execution_count": null,
   "id": "2d9e9fa1-cae6-4eb7-86f4-ded669342e9a",
   "metadata": {},
   "outputs": [],
   "source": [
    "bins = np.linspace(0, 1400, 141)\n",
    "\n",
    "fig, ax = plt.subplots(figsize=(8, 5))\n",
    "\n",
    "sns.histplot(lateral_distance_df, x=\"distance\", fill=True, bins=bins, alpha=.5, color=\"k\", lw=3, element=\"step\")\n",
    "\n",
    "ax.tick_params(axis='both', which='major', labelsize=15, width=2, length=8)  \n",
    "ax.tick_params(axis='both', which='minor', labelsize=14, width=1, length=4)  \n",
    "\n",
    "ax.spines['top'].set_visible(False) \n",
    "ax.spines['right'].set_visible(False) \n",
    "ax.spines['bottom'].set_linewidth(2)  \n",
    "ax.spines['left'].set_linewidth(2) \n",
    "\n",
    "ax.set_xlabel(\"Lateral distance [µm]\", fontsize=15)\n",
    "ax.set_ylabel(\"Neuron pair count\", fontsize=15)\n",
    "\n",
    "plt.show()"
   ]
  },
  {
   "cell_type": "markdown",
   "id": "71557938-3e49-492b-b8df-9104b9b3c971",
   "metadata": {},
   "source": [
    "<div style=\"border-left: 3px solid #000; padding: 1px; padding-left: 10px; background: #F0FAFF; \">\n",
    "\n",
    "This distribution shows the distance between _all pairs_ of L3-IT neurons in the dataset. However, these are not all the pairs for which we can probe connectivity, because not all of them have been proofread. Next, we plot the distances for just the pairs for which we have proofreading information available."
   ]
  },
  {
   "cell_type": "code",
   "execution_count": null,
   "id": "5b6620e8-ef65-4f1d-95e9-3a8e5b3a8502",
   "metadata": {},
   "outputs": [],
   "source": [
    "# Gathering proofread L3-IT IDs\n",
    "pre_root_ids = sub_cell_df[\"pt_root_id\"][np.isin(sub_cell_df[\"pt_root_id\"], axon_proof_root_ids)]\n",
    "post_root_ids = sub_cell_df[\"pt_root_id\"][np.isin(sub_cell_df[\"pt_root_id\"], dendrite_proof_root_ids)]"
   ]
  },
  {
   "cell_type": "markdown",
   "id": "77e4fe9f-bdc9-4ebf-8010-e886fec29943",
   "metadata": {},
   "source": [
    "<div style=\"border-left: 3px solid #000; padding: 1px; padding-left: 10px; background: #F0FAFF; \">\n",
    "\n",
    "Next, we filter the distance dataframe and comparing it to the unfiltered version."
   ]
  },
  {
   "cell_type": "code",
   "execution_count": null,
   "id": "d51bf435-98bc-4b34-b465-5e491e204afc",
   "metadata": {},
   "outputs": [],
   "source": [
    "lateral_distance_proofread_df = lateral_distance_df.copy()\n",
    "lateral_distance_proofread_df = lateral_distance_proofread_df[np.isin(lateral_distance_proofread_df[\"pre_pt_root_id\"], pre_root_ids)]\n",
    "lateral_distance_proofread_df = lateral_distance_proofread_df[np.isin(lateral_distance_proofread_df[\"post_pt_root_id\"], post_root_ids)]"
   ]
  },
  {
   "cell_type": "code",
   "execution_count": null,
   "id": "0daea998-b95e-4809-aa1f-a0cc26eb5b38",
   "metadata": {},
   "outputs": [],
   "source": [
    "bins = np.linspace(0, 1400, 141)\n",
    "\n",
    "fig, ax = plt.subplots(figsize=(8, 5))\n",
    "\n",
    "sns.histplot(lateral_distance_df, x=\"distance\", fill=True, bins=bins, alpha=.5, color=\"k\", lw=3, element=\"step\", label=\"all pairs\")\n",
    "sns.histplot(lateral_distance_proofread_df, x=\"distance\", fill=True, bins=bins, alpha=.5, color=\"b\", lw=3, element=\"step\", label=\"proofread pairs\")\n",
    "ax.legend(frameon=False, fontsize=14)\n",
    "\n",
    "ax.tick_params(axis='both', which='major', labelsize=15, width=2, length=8)  \n",
    "ax.tick_params(axis='both', which='minor', labelsize=14, width=1, length=4)  \n",
    "\n",
    "ax.spines['top'].set_visible(False) \n",
    "ax.spines['right'].set_visible(False) \n",
    "ax.spines['bottom'].set_linewidth(2)  \n",
    "ax.spines['left'].set_linewidth(2) \n",
    "\n",
    "ax.set_xlabel(\"Lateral distance [µm]\", fontsize=15)\n",
    "ax.set_ylabel(\"Neuron pair count\", fontsize=15)\n",
    "\n",
    "plt.show()"
   ]
  },
  {
   "cell_type": "markdown",
   "id": "d9519a51-5504-48fa-9cb9-e8d43f05cdbf",
   "metadata": {},
   "source": [
    "<div style=\"border-left: 3px solid #000; padding: 1px; padding-left: 10px; background: #F0FAFF; \">\n",
    "\n",
    "We change to fractions to adjust for the different counts in the populations:"
   ]
  },
  {
   "cell_type": "code",
   "execution_count": null,
   "id": "12330e34-de31-40fc-8039-75ecc5060268",
   "metadata": {},
   "outputs": [],
   "source": [
    "bins = np.linspace(0, 1400, 141)\n",
    "\n",
    "fig, ax = plt.subplots(figsize=(8, 5))\n",
    "\n",
    "sns.histplot(lateral_distance_df, stat=\"proportion\", x=\"distance\", fill=True, bins=bins, alpha=.5, color=\"k\", lw=3, element=\"step\", label=\"all pairs\")\n",
    "sns.histplot(lateral_distance_proofread_df, stat=\"proportion\", x=\"distance\", fill=True, bins=bins, alpha=.5, color=\"b\", lw=3, element=\"step\", label=\"proofread pairs\")\n",
    "ax.legend(frameon=False, fontsize=14)\n",
    "\n",
    "ax.tick_params(axis='both', which='major', labelsize=15, width=2, length=8)  \n",
    "ax.tick_params(axis='both', which='minor', labelsize=14, width=1, length=4)  \n",
    "\n",
    "ax.spines['top'].set_visible(False) \n",
    "ax.spines['right'].set_visible(False) \n",
    "ax.spines['bottom'].set_linewidth(2)  \n",
    "ax.spines['left'].set_linewidth(2) \n",
    "\n",
    "ax.set_xlabel(\"Lateral distance [µm]\", fontsize=15)\n",
    "ax.set_ylabel(\"Fraction of neuron pairs\", fontsize=15)\n",
    "\n",
    "plt.show()"
   ]
  },
  {
   "cell_type": "markdown",
   "id": "7ff84483-bc2a-444c-ab35-9da39eb9e388",
   "metadata": {},
   "source": [
    "<div style=\"border-left: 3px solid #000; padding: 1px; padding-left: 10px; background: #F0FAFF; \">\n",
    "\n",
    "Next, we want to compare this distribution with the distances between the all _connected_ neuron pairs to see if they differ. For that, we filter the synapse table to only include the proofread L3-IT neurons."
   ]
  },
  {
   "cell_type": "code",
   "execution_count": null,
   "id": "af0f0bca-edb0-46af-bee4-0efd7323eb9e",
   "metadata": {},
   "outputs": [],
   "source": [
    "analysis_syn_df = filter_synapse_table(syn_df, pre_root_ids, post_root_ids).reset_index(drop=True)"
   ]
  },
  {
   "cell_type": "markdown",
   "id": "caea2f66-cdb1-47fc-9aab-a248d182d1ed",
   "metadata": {},
   "source": [
    "<div style=\"border-left: 3px solid #000; padding: 1px; padding-left: 10px; background: #F0FAFF; \">\n",
    "\n",
    "Some neurons are connected with multiple synapses. Here, we will add them together to a single connection.\n",
    "\n",
    "</div>"
   ]
  },
  {
   "cell_type": "code",
   "execution_count": null,
   "id": "49784b30-533b-45b9-af53-b9d08b51f861",
   "metadata": {},
   "outputs": [],
   "source": [
    "conn_df = analysis_syn_df.groupby([\"pre_pt_root_id\", \"post_pt_root_id\"])[\"size\"].sum().reset_index()"
   ]
  },
  {
   "cell_type": "markdown",
   "id": "cc1e200c-0c3b-4eba-b6e2-59f1a6ae7a4a",
   "metadata": {},
   "source": [
    "<div style=\"border-left: 3px solid #000; padding: 1px; padding-left: 10px; background: #F0FAFF; \">\n",
    "\n",
    "Finally, we need to combine distance and connectivity information. We have this information in two separate dataframes:"
   ]
  },
  {
   "cell_type": "code",
   "execution_count": null,
   "id": "a7cf4ce9-2008-4f8e-a2c7-4ab92a52679f",
   "metadata": {},
   "outputs": [],
   "source": [
    "conn_df.head(5)"
   ]
  },
  {
   "cell_type": "code",
   "execution_count": null,
   "id": "5544052a-a005-4fd3-99f8-4720af214c0b",
   "metadata": {},
   "outputs": [],
   "source": [
    "lateral_distance_df.head(5)"
   ]
  },
  {
   "cell_type": "markdown",
   "id": "265ff39b-91a3-4d9e-a350-b4cec17fd28c",
   "metadata": {},
   "source": [
    "<div style=\"background: #DFF0D8; border-radius: 3px; padding: 10px;\">\n",
    "\n",
    "<p><b>Task:</b> For each connection, we would like to know what the distance is between the two neurons. Write the pd.merge function to combine the distance and synapse information of the two tables. Note that the connectivity table has far fewer entries than the distance table. By merging them, we can filter the distance table down to the neuron pairs for which we have a synaptic connection.\n",
    "\n",
    "Hint: pd.merge can merge on multiple columns at the same. \n",
    "\n",
    "</div>"
   ]
  },
  {
   "cell_type": "code",
   "execution_count": null,
   "id": "bc66e5ee-5335-42a7-9f95-b18bb67627aa",
   "metadata": {},
   "outputs": [],
   "source": [
    "# merge conn_df and lateral_distance_df\n"
   ]
  },
  {
   "cell_type": "code",
   "execution_count": null,
   "id": "e148ece3-f1ba-47ce-8397-a357395a7cfc",
   "metadata": {},
   "outputs": [],
   "source": [
    "conn_dist_df.shape, conn_df.shape, lateral_distance_df.shape"
   ]
  },
  {
   "cell_type": "code",
   "execution_count": null,
   "id": "83c6046a-cddb-4d34-8e21-7fe2377fa97e",
   "metadata": {},
   "outputs": [],
   "source": [
    "bins = np.linspace(0, 1400, 141)\n",
    "\n",
    "fig, ax = plt.subplots(figsize=(8, 5))\n",
    "\n",
    "sns.histplot(lateral_distance_df, stat=\"proportion\", x=\"distance\", fill=True, bins=bins, alpha=.5, color=\"k\", lw=3, element=\"step\", label=\"all pairs\")\n",
    "sns.histplot(lateral_distance_proofread_df, stat=\"proportion\", x=\"distance\", fill=True, bins=bins, alpha=.5, color=\"b\", lw=3, element=\"step\", label=\"proofread pairs\")\n",
    "sns.histplot(conn_dist_df, x=\"distance\", stat=\"proportion\", bins=bins, element=\"step\", lw=3, fill=True, alpha=.5, color=\"r\", label=\"connected pairs\")\n",
    "ax.legend(frameon=False, fontsize=14)\n",
    "\n",
    "ax.tick_params(axis='both', which='major', labelsize=15, width=2, length=8)  \n",
    "ax.tick_params(axis='both', which='minor', labelsize=14, width=1, length=4)  \n",
    "\n",
    "ax.spines['top'].set_visible(False) \n",
    "ax.spines['right'].set_visible(False) \n",
    "ax.spines['bottom'].set_linewidth(2)  \n",
    "ax.spines['left'].set_linewidth(2) \n",
    "\n",
    "ax.set_xlabel(\"Lateral distance [µm]\", fontsize=15)\n",
    "ax.set_ylabel(\"Fraction of neuron pairs\", fontsize=15)\n",
    "\n",
    "plt.show()"
   ]
  },
  {
   "cell_type": "markdown",
   "id": "481d83a7-86e6-4196-9efd-15e575334e92",
   "metadata": {},
   "source": [
    "<div style=\"border-left: 3px solid #000; padding: 1px; padding-left: 10px; background: #F0FAFF; \">\n",
    "\n",
    "To get a better intution, we will look at some examples of connected neuron pairs across distance:\n",
    "\n",
    "- 10µm: https://spelunker.cave-explorer.org/#!middleauth+https://global.daf-apis.com/nglstate/api/v1/5054147278667776\n",
    "- 50µm: https://spelunker.cave-explorer.org/#!middleauth+https://global.daf-apis.com/nglstate/api/v1/5895810897149952\n",
    "- 100µm: https://spelunker.cave-explorer.org/#!middleauth+https://global.daf-apis.com/nglstate/api/v1/5101346838544384\n",
    "- 500µm: https://spelunker.cave-explorer.org/#!middleauth+https://global.daf-apis.com/nglstate/api/v1/6458760850571264"
   ]
  },
  {
   "cell_type": "markdown",
   "id": "376fe8ea-7296-41be-9fca-c0b775a5e2d2",
   "metadata": {},
   "source": [
    "<div style=\"background: #DFF0D8; border-radius: 3px; padding: 10px;\">\n",
    "\n",
    "<p><b>Task:</b> Find the synapse between the 500µm-neuron pair.\n",
    "\n",
    "</div>"
   ]
  },
  {
   "cell_type": "markdown",
   "id": "16df99f3-5b8b-4cff-83c5-ce4552a17c5a",
   "metadata": {},
   "source": [
    "<div style=\"border-left: 3px solid #000; padding: 1px; padding-left: 10px; background: #F0FAFF; \">\n",
    "\n",
    "Another way to represent the data above is to calculate a \"connection probability\". That is, <b>how likely is it that two neurons are connected given their lateral distance from each other? </b> \n",
    "\n",
    "There are different ways to achieve this, here we will calculate the connection probability for every distance bin."
   ]
  },
  {
   "cell_type": "code",
   "execution_count": null,
   "id": "bf0641dd-ded8-4f21-bc96-f141eeaffef2",
   "metadata": {},
   "outputs": [],
   "source": [
    "bins = np.linspace(0, 500, 101) # 5µm bins\n",
    "\n",
    "# Binned counts for proofread and connected pairs\n",
    "proofread_pair_counts = np.histogram(lateral_distance_proofread_df[\"distance\"], bins)[0]\n",
    "connected_pair_counts = np.histogram(conn_dist_df[\"distance\"], bins)[0]\n",
    "\n",
    "# Fraction of counts between connected and proofread pairs\n",
    "connection_probability = connected_pair_counts / proofread_pair_counts\n",
    "connection_probability_df = pd.DataFrame({\"bin_id\": np.arange(len(bins)-1), \"probability\": connection_probability})"
   ]
  },
  {
   "cell_type": "code",
   "execution_count": null,
   "id": "af53b896-b310-4e7d-a851-5af699485bfc",
   "metadata": {},
   "outputs": [],
   "source": [
    "fig, ax = plt.subplots(figsize=(8, 5))\n",
    "\n",
    "sns.lineplot(x=bins[:-1], y=connection_probability, lw=3, color=\"k\")\n",
    "\n",
    "ax.tick_params(axis='both', which='major', labelsize=15, width=2, length=8)  # Set larger tick labels\n",
    "ax.tick_params(axis='both', which='minor', labelsize=14, width=1, length=4)  # Set larger tick labels\n",
    "\n",
    "ax.spines['top'].set_visible(False)  # Hide the top spine\n",
    "ax.spines['right'].set_visible(False)  # Hide the right spine\n",
    "ax.spines['bottom'].set_linewidth(2)  # Hide the top spine\n",
    "ax.spines['left'].set_linewidth(2)  # Hide the right spine\n",
    "\n",
    "ax.set_xlabel(\"Lateral distance [µm]\", fontsize=15)\n",
    "ax.set_ylabel(\"Connection probability\", fontsize=15)\n",
    "\n",
    "sns.despine(offset=15, trim=False)\n",
    "plt.tight_layout()\n",
    "plt.show()"
   ]
  },
  {
   "cell_type": "markdown",
   "id": "3bb5d9a7-3515-4fce-b799-408b30f86802",
   "metadata": {},
   "source": [
    "<div style=\"border-left: 3px solid #000; padding: 1px; padding-left: 10px; background: #F0FAFF; \">\n",
    "\n",
    "## #2: Structure vs function: Connectivity vs activity correlation\n",
    "\n",
    "The V1dd dataset is a structure function dataset. We have functional measurements for many cells in the datasets. These are very rich and can be related to behavioral data. \n",
    "\n",
    "You have seen data access instructions for nwb files previously in this course. For V1DD, see data instructions in the databook:\n",
    "\n",
    "<font size=4> <a href=https://allenswdb.github.io/physiology/ophys/V1DD/V1DD-overview.html> V1 Deep Dive Overview </a> </font>\n",
    "\n",
    "</div>"
   ]
  },
  {
   "cell_type": "markdown",
   "id": "92b96f1a-8d3f-4b91-8b67-bbabb100bdc8",
   "metadata": {},
   "source": [
    "<div style=\"border-left: 3px solid #000; padding: 1px; padding-left: 10px; background: #F0FAFF; \">\n",
    "\n",
    "<b>Activity correlations</b> For the purpose of this workshop, we precalculated correlations between cells. To be more precise, we calculated the total correlation of the activity traces of neurons imaged during the same session during the same stimulus condition.\n",
    "\n",
    "If you want to use the V1dd dataset for a project, this kind of analysis could be extended to include behavioral data and create more sophisticated functional comparisons between cells which can then be related to the connectivity data.\n",
    "\n",
    "<b>Coregistration</b>: To analyze the functional and connectivity data, neurons in both datasets need to be _coregistered_, that is an ROI in the activity stack needs to be linked with a cell body in the EM stack. The data below only contains those neurons which were coregistered."
   ]
  },
  {
   "cell_type": "code",
   "execution_count": null,
   "id": "ac63d2cd-8525-425d-9e21-bc7c7f4eaace",
   "metadata": {},
   "outputs": [],
   "source": [
    "corr_coreg_df = pd.read_feather(f\"{data_dir}/cell_cell_correlations_by_stimulus_coregistered.feather\")"
   ]
  },
  {
   "cell_type": "code",
   "execution_count": null,
   "id": "2b8ee61d-4b72-4211-95cd-4653de465f32",
   "metadata": {},
   "outputs": [],
   "source": [
    "corr_coreg_df.head(5)"
   ]
  },
  {
   "cell_type": "markdown",
   "id": "1c8f25d8-72db-4dbb-89fb-eaaf0077408b",
   "metadata": {},
   "source": [
    "<div style=\"border-left: 3px solid #000; padding: 1px; padding-left: 10px; background: #F0FAFF; \">\n",
    "\n",
    "Correlations of activity traces for different stimulus conditions are available to us."
   ]
  },
  {
   "cell_type": "code",
   "execution_count": null,
   "id": "8941a04f-f177-408e-a659-c02a3af415bb",
   "metadata": {},
   "outputs": [],
   "source": [
    "stimulus_conditions = corr_coreg_df.columns[3:]\n",
    "stimulus_conditions"
   ]
  },
  {
   "cell_type": "markdown",
   "id": "dad9caf0-658e-4c6b-a15a-703c75bca655",
   "metadata": {},
   "source": [
    "<div style=\"border-left: 3px solid #000; padding: 1px; padding-left: 10px; background: #F0FAFF; \">\n",
    "\n",
    "Can we treat the different stimulus conditions as separate experiments or would we expect all results to be similar no matter what stimulus condition we base or analysis on? Next, we analyze how correlated the co-activities of cells are between the different stimulus conditions. For that, we calculate the correlation of the pairwise correlations. "
   ]
  },
  {
   "cell_type": "markdown",
   "id": "e34d02c5-8fa7-4a52-9cd4-b241217678f1",
   "metadata": {},
   "source": [
    "<div style=\"background: #DFF0D8; border-radius: 3px; padding: 10px;\">\n",
    "\n",
    "<p><b>Discussion:</b> What outcome do you expect and what do different results mean for the use of the neuron-neuron correlations for further analysis?\n",
    "\n",
    "</div>"
   ]
  },
  {
   "cell_type": "markdown",
   "id": "3d66250e-88a2-4fd7-a1c9-c62c8d23025a",
   "metadata": {},
   "source": [
    "<div style=\"border-left: 3px solid #000; padding: 1px; padding-left: 10px; background: #F0FAFF; \">\n",
    "\n",
    "We use pandas [corr](https://pandas.pydata.org/docs/reference/api/pandas.DataFrame.corr.html) function to correlated all pairs of stimulus condition columns:"
   ]
  },
  {
   "cell_type": "code",
   "execution_count": null,
   "id": "3b8e3808-992e-4155-a141-84070c20206a",
   "metadata": {},
   "outputs": [],
   "source": [
    "stim_stim_corr_df = corr_coreg_df[stimulus_conditions].corr()\n",
    "stim_stim_corr_df"
   ]
  },
  {
   "cell_type": "code",
   "execution_count": null,
   "id": "8da0e685-aeab-45c4-ba01-0ee0cb26e48a",
   "metadata": {},
   "outputs": [],
   "source": [
    "fig, ax = plt.subplots(figsize=(8, 4), dpi=200)\n",
    "\n",
    "heatmap = sns.heatmap(stim_stim_corr_df, ax=ax, vmax=.5, vmin=0)\n",
    "colorbar = heatmap.collections[0].colorbar\n",
    "colorbar.set_label(\"Correlation of neuron-neuron corrs.\", fontsize=15)\n",
    "\n",
    "ax.tick_params(axis='both', which='major', labelsize=16, width=2, length=8)  # Set larger tick labels\n",
    "ax.tick_params(axis='both', which='minor', labelsize=14, width=1, length=4)  # Set larger tick labels\n",
    "\n",
    "ax.spines['top'].set_visible(False)  # Hide the top spine\n",
    "ax.spines['right'].set_visible(False)  # Hide the right spine\n",
    "ax.spines['bottom'].set_linewidth(2)  # Hide the top spine\n",
    "ax.spines['left'].set_linewidth(2)  # Hide the right spine\n",
    "\n",
    "ax.set_xticklabels([])\n",
    "ax.set_xlabel(\"\")\n",
    "ax.set_ylabel(\"\")\n",
    "sns.despine(offset=15, trim=False)\n",
    "plt.tight_layout()\n",
    "plt.show()"
   ]
  },
  {
   "cell_type": "markdown",
   "id": "a99fbc06-fe77-40f8-8c56-403a77762505",
   "metadata": {},
   "source": [
    "<div style=\"border-left: 3px solid #000; padding: 1px; padding-left: 10px; background: #F0FAFF; \">\n",
    "\n",
    "Another way to compare the different stimulus conditions is to plot the distributions of the neuron-neuron correlations."
   ]
  },
  {
   "cell_type": "code",
   "execution_count": null,
   "id": "b0413d76-03c2-4662-abb0-1f80aafe29d3",
   "metadata": {},
   "outputs": [],
   "source": [
    "stim = stimulus_conditions[2]"
   ]
  },
  {
   "cell_type": "code",
   "execution_count": null,
   "id": "0638a2bb-1384-426b-93fb-ca5c97534ae7",
   "metadata": {},
   "outputs": [],
   "source": [
    "fig, ax = plt.subplots(figsize=(8, 4), dpi=200)\n",
    "\n",
    "sns.histplot(data=corr_coreg_df, x=stim, label=stim, bins=np.linspace(-1, 1, 201), \n",
    "             element=\"step\", lw=3, ax=ax, stat=\"probability\", alpha=.5)\n",
    "\n",
    "ax.legend(frameon=False)\n",
    "ax.tick_params(axis='both', which='major', labelsize=16, width=2, length=8)  # Set larger tick labels\n",
    "ax.tick_params(axis='both', which='minor', labelsize=14, width=1, length=4)  # Set larger tick labels\n",
    "\n",
    "ax.spines['top'].set_visible(False)  # Hide the top spine\n",
    "ax.spines['right'].set_visible(False)  # Hide the right spine\n",
    "ax.spines['bottom'].set_linewidth(2)  # Hide the top spine\n",
    "ax.spines['left'].set_linewidth(2)  # Hide the right spine\n",
    "ax.set_xlim(-.1, .3)\n",
    "\n",
    "ax.set_xlabel(\"Total trace correlation during stimulus\", fontsize=16)\n",
    "ax.set_ylabel(\"Fraction of neuron-pairs\", fontsize=16)\n",
    "sns.despine(offset=15, trim=False)\n",
    "plt.tight_layout()\n",
    "plt.show()"
   ]
  },
  {
   "cell_type": "markdown",
   "id": "e3b22671-cb09-432b-9d8a-9e29f39b5921",
   "metadata": {},
   "source": [
    "<div style=\"background: #DFF0D8; border-radius: 3px; padding: 10px;\">\n",
    "\n",
    "<p><b>Task:</b> Add the distributions for the other stimulus conditions into the same plot.\n",
    "\n",
    "</div>"
   ]
  },
  {
   "cell_type": "code",
   "execution_count": null,
   "id": "5a6cd82e-8800-4bf8-8a26-ef7bb2784ba4",
   "metadata": {},
   "outputs": [],
   "source": [
    "# Plot for stim in stimulus_conditions"
   ]
  },
  {
   "cell_type": "markdown",
   "id": "89a4a350-4bf2-4850-8b93-075844c8982a",
   "metadata": {},
   "source": [
    "<div style=\"border-left: 3px solid #000; padding: 1px; padding-left: 10px; background: #F0FAFF; \">\n",
    "\n",
    "With the activity correlation between neurons in hand, we want to answer one question: <b>Are neurons that are more correlated in their activity, more likely to be connected with each other?</b>"
   ]
  },
  {
   "cell_type": "markdown",
   "id": "e0bbf4d0-92c6-4f1a-86df-ca639b6c8ee1",
   "metadata": {},
   "source": [
    "<div style=\"border-left: 3px solid #000; padding: 1px; padding-left: 10px; background: #F0FAFF; \">\n",
    "\n",
    "As before, we will limit this analysis to L3-IT neurons. We collect the connectivity information between these neurons as before."
   ]
  },
  {
   "cell_type": "code",
   "execution_count": null,
   "id": "ba680fc2-0bc5-4864-959b-5b61cd762d17",
   "metadata": {},
   "outputs": [],
   "source": [
    "sub_cell_df = cell_df[cell_df[\"cell_type\"] == \"L3-IT\"]"
   ]
  },
  {
   "cell_type": "code",
   "execution_count": null,
   "id": "54c60fb5-2fe9-45d7-b8e1-db03b1c488bf",
   "metadata": {},
   "outputs": [],
   "source": [
    "pre_root_ids = sub_cell_df[\"pt_root_id\"][np.isin(sub_cell_df[\"pt_root_id\"], axon_proof_root_ids)]\n",
    "post_root_ids = sub_cell_df[\"pt_root_id\"][np.isin(sub_cell_df[\"pt_root_id\"], dendrite_proof_root_ids)]"
   ]
  },
  {
   "cell_type": "code",
   "execution_count": null,
   "id": "72d8f430-424b-4311-9511-507c72a178cf",
   "metadata": {},
   "outputs": [],
   "source": [
    "analysis_syn_df = filter_synapse_table(syn_df, axon_proof_root_ids, dendrite_proof_root_ids).reset_index(drop=True)\n",
    "conn_df = analysis_syn_df.groupby([\"pre_pt_root_id\", \"post_pt_root_id\"])[\"size\"].sum().reset_index()"
   ]
  },
  {
   "cell_type": "markdown",
   "id": "08735583-3308-4eb0-9476-0f09296f6b4f",
   "metadata": {},
   "source": [
    "<div style=\"border-left: 3px solid #000; padding: 1px; padding-left: 10px; background: #F0FAFF; \">\n",
    "\n",
    "We will limit our analysis to just those neurons for which we have proofreading data available"
   ]
  },
  {
   "cell_type": "code",
   "execution_count": null,
   "id": "d1bc31bd-546d-4c03-a167-0aa7a342e3b5",
   "metadata": {},
   "outputs": [],
   "source": [
    "corr_coreg_proofread_df = corr_coreg_df.copy()\n",
    "corr_coreg_proofread_df = corr_coreg_proofread_df[np.isin(corr_coreg_proofread_df[\"pre_pt_root_id\"], pre_root_ids)]\n",
    "corr_coreg_proofread_df = corr_coreg_proofread_df[np.isin(corr_coreg_proofread_df[\"post_pt_root_id\"], post_root_ids)]"
   ]
  },
  {
   "cell_type": "markdown",
   "id": "c2df1635-7f99-4113-b44c-f95d9de96454",
   "metadata": {},
   "source": [
    "<div style=\"border-left: 3px solid #000; padding: 1px; padding-left: 10px; background: #F0FAFF; \">\n",
    "\n",
    "Let's compare the connectivity and the activity correlation data."
   ]
  },
  {
   "cell_type": "code",
   "execution_count": null,
   "id": "2f5d7b24-de79-40cf-a269-91e11c26cd48",
   "metadata": {},
   "outputs": [],
   "source": [
    "conn_corr_df = pd.merge(conn_df, corr_coreg_proofread_df, on=[\"pre_pt_root_id\", \"post_pt_root_id\"])"
   ]
  },
  {
   "cell_type": "markdown",
   "id": "0a2733bf-a459-4f40-8a99-82a4ee79fcdf",
   "metadata": {},
   "source": [
    "<div style=\"border-left: 3px solid #000; padding: 1px; padding-left: 10px; background: #F0FAFF; \">\n",
    "\n",
    "These are the numbers of neuron pairs we have available for our comparison:"
   ]
  },
  {
   "cell_type": "code",
   "execution_count": null,
   "id": "d43dacd8-5f73-435d-8db1-a9cea61f803e",
   "metadata": {},
   "outputs": [],
   "source": [
    "corr_coreg_proofread_df.shape, conn_corr_df.shape"
   ]
  },
  {
   "cell_type": "markdown",
   "id": "ca8c6256-a804-4fe6-b7bd-11afe57b2564",
   "metadata": {},
   "source": [
    "<div style=\"border-left: 3px solid #000; padding: 1px; padding-left: 10px; background: #F0FAFF; \">\n",
    "\n",
    "For a given stimulus, we compare the distributions of activity correlations between the connected pairs with the activity correlations of all pairs."
   ]
  },
  {
   "cell_type": "code",
   "execution_count": null,
   "id": "297ae0df-b122-42d7-9b6b-a834d34209b7",
   "metadata": {},
   "outputs": [],
   "source": [
    "# Select a stimulus condition to plot\n",
    "stim = stimulus_conditions[2]\n",
    "stim"
   ]
  },
  {
   "cell_type": "code",
   "execution_count": null,
   "id": "00ebd32c-1598-4bb1-ac58-debc48f5d0e6",
   "metadata": {},
   "outputs": [],
   "source": [
    "bins=np.linspace(-.1, .4, 26)\n",
    "\n",
    "fig, ax = plt.subplots(figsize=(8, 5))\n",
    "\n",
    "ax.set_title(stim, fontsize=18)\n",
    "\n",
    "sns.histplot(corr_coreg_proofread_df, x=stim, stat=\"probability\", bins=bins, element=\"step\", label=\"proofread pairs\", lw=3, fill=True, alpha=.5, color=\"k\")\n",
    "sns.histplot(conn_corr_df, x=stim, stat=\"probability\", bins=bins, element=\"step\", label=\"connected pairs\", lw=3, fill=True, alpha=.5, color=\"r\")\n",
    "\n",
    "ax.legend(frameon=False, fontsize=14)\n",
    "\n",
    "ax.tick_params(axis='both', which='major', labelsize=15, width=2, length=8)  # Set larger tick labels\n",
    "ax.tick_params(axis='both', which='minor', labelsize=14, width=1, length=4)  # Set larger tick labels\n",
    "\n",
    "ax.spines['top'].set_visible(False)  # Hide the top spine\n",
    "ax.spines['right'].set_visible(False)  # Hide the right spine\n",
    "ax.spines['bottom'].set_linewidth(2)  # Hide the top spine\n",
    "ax.spines['left'].set_linewidth(2)  # Hide the right spine\n",
    "\n",
    "ax.set_xlabel(\"Total trace correlation during stimulus\", fontsize=16)\n",
    "ax.set_ylabel(\"Fraction of neuron pairs\", fontsize=15)\n",
    "sns.despine(offset=15, trim=False)\n",
    "plt.tight_layout()\n",
    "\n",
    "plt.show()"
   ]
  },
  {
   "cell_type": "markdown",
   "id": "484c6476-e038-4c46-92a5-6d3da0cccd85",
   "metadata": {},
   "source": [
    "<div style=\"background: #DFF0D8; border-radius: 3px; padding: 10px;\">\n",
    "\n",
    "<p><b>Task:</b> Repeat the plot above for different stimulus conditions. Do they all show similar results?\n",
    "\n",
    "</div>"
   ]
  },
  {
   "cell_type": "markdown",
   "id": "0c42f526-4977-4ef4-8e53-ef173e195f3e",
   "metadata": {},
   "source": [
    "<div style=\"border-left: 3px solid #000; padding: 1px; padding-left: 10px; background: #F0FAFF; \">\n",
    "\n",
    "Just like for the distance analysis above (#1), we can express this result as a \"connection probability\" for a given correlation. That is, how likely is it that two neurons are connected given their activity correlation? \n",
    "\n",
    "Here, we will calculate the connection probability bins of activity correlations. We use percentile bins to avoid having to pick suitable bin locations."
   ]
  },
  {
   "cell_type": "code",
   "execution_count": null,
   "id": "4b40093d-b701-45f5-a894-e54d030bdf67",
   "metadata": {},
   "outputs": [],
   "source": [
    "bins = np.percentile(corr_coreg_proofread_df[stim], np.linspace(0, 100, 6)) # Makes 5 bins\n",
    "bin_centers = np.convolve(bins, [.5, .5], mode=\"valid\") # Calulates the center of each bin\n",
    "\n",
    "# Counts for proofread and connected pairs\n",
    "proofread_pair_counts = np.histogram(corr_coreg_proofread_df[stim], bins)[0]\n",
    "connected_pair_counts = np.histogram(conn_corr_df[stim], bins)[0]\n",
    "\n",
    "# Fraction of counts between connected and proofread pairs\n",
    "connection_probability = connected_pair_counts / (proofread_pair_counts + 1e-6)"
   ]
  },
  {
   "cell_type": "code",
   "execution_count": null,
   "id": "f61a4abf-43b2-416c-a4cf-701e746501e4",
   "metadata": {},
   "outputs": [],
   "source": [
    "fig, ax = plt.subplots(figsize=(7, 5))\n",
    "\n",
    "sns.lineplot(x=bin_centers, y=connection_probability, lw=3, ls=\"--\", legend=False, ax=ax, marker=\"o\", markersize=15)\n",
    "\n",
    "ax.legend(frameon=False, fontsize=14)\n",
    "ax.get_legend().set_bbox_to_anchor([1.1, 1])\n",
    "ax.tick_params(axis='both', which='major', labelsize=15, width=2, length=8)  # Set larger tick labels\n",
    "ax.tick_params(axis='both', which='minor', labelsize=14, width=1, length=4)  # Set larger tick labels\n",
    "\n",
    "ax.spines['top'].set_visible(False)  # Hide the top spine\n",
    "ax.spines['right'].set_visible(False)  # Hide the right spine\n",
    "ax.spines['bottom'].set_linewidth(2)  # Hide the top spine\n",
    "ax.spines['left'].set_linewidth(2)  # Hide the right spine\n",
    "\n",
    "ax.set_xlabel(\"Total trace correlation during stimulus\", fontsize=16)\n",
    "ax.set_ylabel(\"Connection probability\", fontsize=15)\n",
    "\n",
    "sns.despine(offset=15, trim=False)\n",
    "plt.tight_layout()\n",
    "plt.show()"
   ]
  },
  {
   "cell_type": "markdown",
   "id": "df3e37ad-9849-460e-a3b9-fec62e01f991",
   "metadata": {},
   "source": [
    "<div style=\"background: #DFF0D8; border-radius: 3px; padding: 10px;\">\n",
    "\n",
    "<p><b>Task:</b> Add the distributions for the other stimulus conditions into the same plot.\n",
    "\n",
    "</div>"
   ]
  },
  {
   "cell_type": "code",
   "execution_count": null,
   "id": "602eba76-cb46-4566-91b3-0571bc4f36ec",
   "metadata": {},
   "outputs": [],
   "source": [
    "# Plot for stim in stimulus_conditions\n",
    "\n",
    "# Solution\n",
    "fig, ax = plt.subplots(figsize=(11, 5))\n",
    "\n",
    "for stim in stimulus_conditions:\n",
    "    bins = np.percentile(corr_coreg_proofread_df[stim], np.linspace(0, 100, 6))#[[0, 1, -2, -1]]\n",
    "\n",
    "    bin_centers = np.convolve(bins, [.5, .5], mode=\"valid\")#[[0, -1]]\n",
    "    proofread_pair_counts = np.histogram(corr_coreg_proofread_df[stim], bins)[0]#[[0, -1]]\n",
    "    connected_pair_counts = np.histogram(conn_corr_df[stim], bins)[0]#[[0, -1]]\n",
    "    \n",
    "    connection_probability = connected_pair_counts / (proofread_pair_counts + 1e-6)\n",
    "    \n",
    "    sns.lineplot(x=bin_centers, y=connection_probability, lw=3, ls=\"--\", label=stim, legend=False, ax=ax, marker=\"o\", markersize=15)\n",
    "\n",
    "ax.legend(frameon=False, fontsize=14)\n",
    "ax.get_legend().set_bbox_to_anchor([1.1, 1])\n",
    "ax.tick_params(axis='both', which='major', labelsize=15, width=2, length=8)  # Set larger tick labels\n",
    "ax.tick_params(axis='both', which='minor', labelsize=14, width=1, length=4)  # Set larger tick labels\n",
    "\n",
    "ax.spines['top'].set_visible(False)  # Hide the top spine\n",
    "ax.spines['right'].set_visible(False)  # Hide the right spine\n",
    "ax.spines['bottom'].set_linewidth(2)  # Hide the top spine\n",
    "ax.spines['left'].set_linewidth(2)  # Hide the right spine\n",
    "\n",
    "ax.set_xlabel(\"Total trace correlation during stimulus\", fontsize=16)\n",
    "ax.set_ylabel(\"Connection probability\", fontsize=15)\n",
    "\n",
    "sns.despine(offset=15, trim=False)\n",
    "plt.tight_layout()\n",
    "plt.show()"
   ]
  },
  {
   "cell_type": "markdown",
   "id": "22a03a8c-d297-4f98-9412-729859b71585",
   "metadata": {},
   "source": [
    "<div style=\"border-left: 3px solid #000; padding: 1px; padding-left: 10px; background: #F0FAFF; \">\n",
    "\n",
    "### Summary\n",
    "\n",
    "We showed that for L3-IT cells\n",
    "\n",
    "1. neurons that are closer to each other, are more likely to be connected.\n",
    "2. neurons with more correlated activity traces, are more likely to be connected."
   ]
  },
  {
   "cell_type": "markdown",
   "id": "397591a1-f034-45c2-b873-c533a0cc6557",
   "metadata": {},
   "source": [
    "<div style=\"border-left: 3px solid #000; padding: 1px; padding-left: 10px; background: #F0FAFF; \">\n",
    "\n",
    "## A stronger NULL model: Can distance $\\rightarrow$ connectivity account for structure-function correlation\n",
    "\n",
    "So far we implicity used a _NULL model_ where all neuron pairs have the same likelihood to be connected. But we just showed that spatial separation alone increases the probability that two neurons are connected. Can this account for the correlation between activity correlation and connectivity?"
   ]
  },
  {
   "cell_type": "markdown",
   "id": "b6da0d64-9a35-4fe2-8298-379d4a240425",
   "metadata": {},
   "source": [
    "<div style=\"background: #DFF0D8; border-radius: 3px; padding: 10px;\">\n",
    "\n",
    "<p><b>Discuss:</b> How could we implement such a NULL model?\n",
    "\n",
    "</div>"
   ]
  },
  {
   "cell_type": "markdown",
   "id": "255028de-a439-4cb4-92ed-b2c3c25f2fe0",
   "metadata": {},
   "source": [
    "<div style=\"border-left: 3px solid #000; padding: 1px; padding-left: 10px; background: #F0FAFF; \">\n",
    "\n",
    "<b>Collecting data products:</b> We will create a single dataframe that contains all information about the proofread, coregistered pairs: Their distance, their activity correlations, whether they are connected. Let's port the results from our previous analyses"
   ]
  },
  {
   "cell_type": "code",
   "execution_count": null,
   "id": "ad7d5861-6581-4b0b-92a4-ef7efb7a1484",
   "metadata": {},
   "outputs": [],
   "source": [
    "# Select one subtype of cell\n",
    "sub_cell_df = cell_df[cell_df[\"cell_type\"] == \"L3-IT\"]\n",
    "\n",
    "pre_root_ids = sub_cell_df[\"pt_root_id\"][np.isin(sub_cell_df[\"pt_root_id\"], axon_proof_root_ids)]\n",
    "post_root_ids = sub_cell_df[\"pt_root_id\"][np.isin(sub_cell_df[\"pt_root_id\"], dendrite_proof_root_ids)]"
   ]
  },
  {
   "cell_type": "code",
   "execution_count": null,
   "id": "0cb4a822-a588-4657-8313-585466cef510",
   "metadata": {},
   "outputs": [],
   "source": [
    "# Connectivity analaysis\n",
    "\n",
    "analysis_syn_df = filter_synapse_table(syn_df, axon_proof_root_ids, dendrite_proof_root_ids).reset_index(drop=True)\n",
    "conn_df = analysis_syn_df.groupby([\"pre_pt_root_id\", \"post_pt_root_id\"])[\"size\"].sum().reset_index()"
   ]
  },
  {
   "cell_type": "code",
   "execution_count": null,
   "id": "da604535-48e1-499e-8feb-754657446481",
   "metadata": {},
   "outputs": [],
   "source": [
    "# Distance analysis\n",
    "\n",
    "lateral_distance_df = calculate_lateral_distances(sub_cell_df)\n",
    "\n",
    "lateral_distance_proofread_df = lateral_distance_df.copy()\n",
    "lateral_distance_proofread_df = lateral_distance_proofread_df[np.isin(lateral_distance_proofread_df[\"pre_pt_root_id\"], pre_root_ids)]\n",
    "lateral_distance_proofread_df = lateral_distance_proofread_df[np.isin(lateral_distance_proofread_df[\"post_pt_root_id\"], post_root_ids)]"
   ]
  },
  {
   "cell_type": "code",
   "execution_count": null,
   "id": "4aebeeaa-2b3f-42aa-a344-963585e3d158",
   "metadata": {},
   "outputs": [],
   "source": [
    "# Activity correlation\n",
    "\n",
    "corr_coreg_proofread_df = corr_coreg_df.copy()\n",
    "corr_coreg_proofread_df = corr_coreg_proofread_df[np.isin(corr_coreg_proofread_df[\"pre_pt_root_id\"], pre_root_ids)]\n",
    "corr_coreg_proofread_df = corr_coreg_proofread_df[np.isin(corr_coreg_proofread_df[\"post_pt_root_id\"], post_root_ids)]"
   ]
  },
  {
   "cell_type": "markdown",
   "id": "192cf10e-ac5b-470c-bb7e-6ef3bfc6fd9a",
   "metadata": {},
   "source": [
    "<div style=\"border-left: 3px solid #000; padding: 1px; padding-left: 10px; background: #F0FAFF; \">\n",
    "\n",
    "**Combine data products**: Let's combine our main three dataframes into one. We are merging the dataframes together, in a way that retains all entries in \"corr_coreg_proofread_df\". "
   ]
  },
  {
   "cell_type": "code",
   "execution_count": null,
   "id": "42494658-9720-4f2b-b00a-c2513a50caf3",
   "metadata": {},
   "outputs": [],
   "source": [
    "# set 'corr_coreg_proofread_df' as the base dataframe to merge to\n",
    "full_df = corr_coreg_proofread_df.copy()\n",
    "\n",
    "# merge the lateral distance \n",
    "full_df = pd.merge(full_df, lateral_distance_proofread_df, on=[\"pre_pt_root_id\", \"post_pt_root_id\"])\n",
    "\n",
    "# merge the connectivity, setting empty entries to 0\n",
    "full_df = pd.merge(full_df, conn_df, on=[\"pre_pt_root_id\", \"post_pt_root_id\"], how=\"left\").fillna(0)"
   ]
  },
  {
   "cell_type": "code",
   "execution_count": null,
   "id": "6d727fa4-5a33-493c-a107-00b76a96eed7",
   "metadata": {},
   "outputs": [],
   "source": [
    "full_df[\"connected\"] = np.array(full_df[\"size\"] > 0)"
   ]
  },
  {
   "cell_type": "markdown",
   "id": "d2eaae40-e0ba-4c88-83ec-40a62f4adc44",
   "metadata": {},
   "source": [
    "<div style=\"border-left: 3px solid #000; padding: 1px; padding-left: 10px; background: #F0FAFF; \">\n",
    "\n",
    "<b>Measurement:</b> We will summarize the structure-function result with one value, the mean correlation of the cells in the connected and overall group."
   ]
  },
  {
   "cell_type": "code",
   "execution_count": null,
   "id": "a0d3f3e7-4d17-4153-8581-454b5d07794f",
   "metadata": {},
   "outputs": [],
   "source": [
    "full_df.groupby(\"connected\")[stimulus_conditions].mean()"
   ]
  },
  {
   "cell_type": "markdown",
   "id": "fe6bf202-83e1-4f0c-a75f-a14389e53f81",
   "metadata": {},
   "source": [
    "<div style=\"border-left: 3px solid #000; padding: 1px; padding-left: 10px; background: #F0FAFF; \">\n",
    "\n",
    "<b>Distance-based null model to sample connectomes:</b> Instead of using the not-connected neurons as our NULL model for comparison, we want to use our insight about the connection probabilities vs neuron distance to create a stronger NULL model. We will achieve this by sampling new \"connectomes\" based on the distance-based connection probabilities. For each new connectome, we will calculate the correlation of the connected (sampled) neurons.\n",
    "\n",
    "First, we assign probabilities to each potential connection by recreating the connection probability measurements from #1:"
   ]
  },
  {
   "cell_type": "code",
   "execution_count": null,
   "id": "1649a111-ae25-4232-bf09-f8b3e0b0df5a",
   "metadata": {},
   "outputs": [],
   "source": [
    "conn_dist_df = pd.merge(conn_df, lateral_distance_df, on=[\"pre_pt_root_id\", \"post_pt_root_id\"])"
   ]
  },
  {
   "cell_type": "code",
   "execution_count": null,
   "id": "7642c9aa-d790-4b5e-805f-8ab31fea8484",
   "metadata": {},
   "outputs": [],
   "source": [
    "# Distance vs Connectivity\n",
    "distance_bins = np.linspace(0, 500, 101)\n",
    "\n",
    "proofread_pair_counts = np.histogram(lateral_distance_proofread_df[\"distance\"], distance_bins)[0]\n",
    "connected_pair_counts = np.histogram(conn_dist_df[\"distance\"], distance_bins)[0]\n",
    "\n",
    "connection_probability = connected_pair_counts / proofread_pair_counts\n",
    "connection_probability_df = pd.DataFrame({\"bin_id\": np.arange(len(distance_bins)-1), \"bin_start\": distance_bins[:-1], \"bin_end\": distance_bins[1:], \"connection_probability\": connection_probability})"
   ]
  },
  {
   "cell_type": "code",
   "execution_count": null,
   "id": "15e67ad1-c316-44a9-8b6d-f70bcf21e809",
   "metadata": {},
   "outputs": [],
   "source": [
    "connection_probability_df.head(5)"
   ]
  },
  {
   "cell_type": "markdown",
   "id": "3aa1ab6e-10b3-48bc-b1a4-06cf9490e904",
   "metadata": {},
   "source": [
    "<div style=\"border-left: 3px solid #000; padding: 1px; padding-left: 10px; background: #F0FAFF; \">\n",
    "\n",
    "Finally, we assign each neuron-neuron pair their probability to be connected based on their distance. \"np.digitize\" allows us to assign each pair to a bin, which we then use to combine the \"full_df\" with the connection probability dataframe."
   ]
  },
  {
   "cell_type": "code",
   "execution_count": null,
   "id": "babc5d79-c29f-461e-b5ba-247855ea786c",
   "metadata": {},
   "outputs": [],
   "source": [
    "full_df[\"bin_id\"] = np.digitize(full_df[\"distance\"], distance_bins)\n",
    "full_df = pd.merge(full_df, connection_probability_df, on=\"bin_id\")"
   ]
  },
  {
   "cell_type": "code",
   "execution_count": null,
   "id": "3222dbaa-2a07-4e03-b513-0e0ad98d1867",
   "metadata": {},
   "outputs": [],
   "source": [
    "full_df.head(5)"
   ]
  },
  {
   "cell_type": "markdown",
   "id": "c3d9b1be-83f3-4d06-addb-53aa9e44fb85",
   "metadata": {},
   "source": [
    "<div style=\"background: #DFF0D8; border-radius: 3px; padding: 10px;\">\n",
    "\n",
    "<b>Task:</b> Sampling connectomes. Sample a connectome using  [np.random.choice](https://numpy.org/doc/stable/reference/random/generated/numpy.random.choice.html). This function takes a list of entries (\"a\"), their sampling probabilities which have to sum to one as input (\"p\"), and a number of samples that should be taken (\"size\").\n",
    "\n",
    "</div>"
   ]
  },
  {
   "cell_type": "code",
   "execution_count": null,
   "id": "87afbd0d-d179-4c28-956a-e8e699f93787",
   "metadata": {},
   "outputs": [],
   "source": [
    "full_sampled_df = full_df.copy()\n",
    "sampled_idx = np.random.choice(a= , size= , replace= , p= )\n",
    "\n",
    "full_sampled_df[\"connected_sampled\"] = False\n",
    "full_sampled_df.loc[sampled_idx, \"connected_sampled\"] = True\n",
    "\n",
    "full_sampled_df.loc[sampled_idx]"
   ]
  },
  {
   "cell_type": "code",
   "execution_count": null,
   "id": "8e8d980c-708f-4ce7-b316-180e2cf31726",
   "metadata": {},
   "outputs": [],
   "source": [
    "full_sampled_df.groupby(\"connected_sampled\")[stimulus_conditions].mean()"
   ]
  },
  {
   "cell_type": "markdown",
   "id": "0bc9f8f3-3835-454b-a11d-c6343a35f9d3",
   "metadata": {},
   "source": [
    "<div style=\"border-left: 3px solid #000; padding: 1px; padding-left: 10px; background: #F0FAFF; \">\n",
    "\n",
    "We repeat the sampling 10,000 times and combine the result in a DataFrame."
   ]
  },
  {
   "cell_type": "code",
   "execution_count": null,
   "id": "488d992e-7f58-485c-b62c-c0ce5cff7274",
   "metadata": {},
   "outputs": [],
   "source": [
    "sampled_means = []\n",
    "\n",
    "for _ in tqdm.tqdm(range(10_000)):\n",
    "    full_sampled_df = full_df.copy()\n",
    "    sampled_idx = np.random.choice(\n",
    "        full_sampled_df.index,\n",
    "        p=full_sampled_df[\"connection_probability\"] / full_sampled_df[\"connection_probability\"].sum(),\n",
    "        size=np.sum(full_sampled_df[\"connected\"])\n",
    "    )\n",
    "    \n",
    "    full_sampled_df[\"connected_sampled\"] = False\n",
    "    full_sampled_df.loc[sampled_idx, \"connected_sampled\"] = True\n",
    "    \n",
    "    means = full_sampled_df.loc[full_sampled_df[\"connected_sampled\"], stimulus_conditions].mean()\n",
    "    sampled_means.append(means)\n",
    "\n",
    "# Combine into a DataFrame (each row = one sample)\n",
    "sampled_means_df = pd.DataFrame(sampled_means)"
   ]
  },
  {
   "cell_type": "code",
   "execution_count": null,
   "id": "bcd9cb4a-31ce-49e4-8b7e-d461815e0198",
   "metadata": {},
   "outputs": [],
   "source": [
    "sampled_means_df.head(5)"
   ]
  },
  {
   "cell_type": "markdown",
   "id": "f58330c9-4649-4cd6-85fb-ca7cde044783",
   "metadata": {},
   "source": [
    "<div style=\"border-left: 3px solid #000; padding: 1px; padding-left: 10px; background: #F0FAFF; \">\n",
    "\n",
    "With the results in hand, lets plot our distribution for a single stimulus condition."
   ]
  },
  {
   "cell_type": "code",
   "execution_count": null,
   "id": "2f0988f0-6639-4ee4-8a61-93e78de4ef2d",
   "metadata": {},
   "outputs": [],
   "source": [
    "stim = stimulus_conditions[2]\n",
    "stim"
   ]
  },
  {
   "cell_type": "code",
   "execution_count": null,
   "id": "82f9ac78-2b5f-42e9-8b64-2b717f23cec1",
   "metadata": {},
   "outputs": [],
   "source": [
    "fig, ax = plt.subplots(figsize=(12, 5))\n",
    "\n",
    "ax.set_title(stim, fontsize=18)\n",
    "\n",
    "sns.histplot(data=sampled_means_df, x=stim, stat=\"percent\", bins=101, element=\"step\", label=\"Distance-based\\nconnected samples\", \n",
    "             lw=3, fill=True, alpha=.5, color=\"k\")\n",
    "\n",
    "ax.legend(frameon=False, fontsize=14, bbox_to_anchor=[1, 1], loc=\"upper left\")\n",
    "\n",
    "ax.tick_params(axis='both', which='major', labelsize=15, width=2, length=8)  # Set larger tick labels\n",
    "ax.tick_params(axis='both', which='minor', labelsize=14, width=1, length=4)  # Set larger tick labels\n",
    "\n",
    "ax.spines['top'].set_visible(False)  # Hide the top spine\n",
    "ax.spines['right'].set_visible(False)  # Hide the right spine\n",
    "ax.spines['bottom'].set_linewidth(2)  # Hide the top spine\n",
    "ax.spines['left'].set_linewidth(2)  # Hide the right spine\n",
    "\n",
    "ax.set_xlabel(\"Total trace correlation during stimulus\", fontsize=16)\n",
    "ax.set_ylabel(\"Fraction of neuron pairs\", fontsize=15)\n",
    "sns.despine(offset=15, trim=False)\n",
    "plt.tight_layout()\n",
    "\n",
    "plt.show()"
   ]
  },
  {
   "cell_type": "markdown",
   "id": "c5136464-fd1b-4803-a5f0-9f027839c2c9",
   "metadata": {},
   "source": [
    "<div style=\"background: #DFF0D8; border-radius: 3px; padding: 10px;\">\n",
    "\n",
    "<p><b>Task:</b> How different is our distribution from the observed correlation of the connected neurons? Calculate the Z-Score between the observed result and the measured correlation of the connected neurons. Use df.mean() and df.std().\n",
    "\n",
    "</div>"
   ]
  },
  {
   "cell_type": "code",
   "execution_count": null,
   "id": "88781279-019b-4249-8ab8-f388eb422c1d",
   "metadata": {},
   "outputs": [],
   "source": [
    "observed_stim_means = full_df[full_df[\"connected\"]][stimulus_conditions].mean()\n",
    "\n",
    "# calculate z scores: using df.mean() and df.std()"
   ]
  },
  {
   "cell_type": "code",
   "execution_count": null,
   "id": "a50914b2-4739-4f6c-881f-e06001202913",
   "metadata": {},
   "outputs": [],
   "source": [
    "zscores"
   ]
  },
  {
   "cell_type": "markdown",
   "id": "4158812e-ab55-458c-a4d0-661307788ae7",
   "metadata": {},
   "source": [
    "<div style=\"border-left: 3px solid #000; padding: 1px; padding-left: 10px; background: #F0FAFF; \">\n",
    "\n",
    "Visualizing it all in one plot:"
   ]
  },
  {
   "cell_type": "code",
   "execution_count": null,
   "id": "22b64116-d541-4cbb-8b94-3e0cb7129ac7",
   "metadata": {},
   "outputs": [],
   "source": [
    "stim = stimulus_conditions[2]\n",
    "stim"
   ]
  },
  {
   "cell_type": "code",
   "execution_count": null,
   "id": "122cc684-b4fc-49be-af9f-49ec93473f5a",
   "metadata": {},
   "outputs": [],
   "source": [
    "zscore = (full_df[full_df[\"connected\"]][stim].mean() - sampled_means_df[stim].mean()) / sampled_means_df[stim].std()\n",
    "\n",
    "fig, ax = plt.subplots(figsize=(12, 5))\n",
    "\n",
    "ax.set_title(stim, fontsize=18)\n",
    "\n",
    "sns.histplot(data=sampled_means_df, x=stim, stat=\"percent\", bins=101, element=\"step\", label=\"Distance-based\\nconnected samples\", \n",
    "             lw=3, fill=True, alpha=.5, color=\"k\")\n",
    "\n",
    "ax.axvline(x=full_df[full_df[\"connected\"]][stim].mean(), color='r', linestyle='--', label='Observed:\\nConnected', lw=3)\n",
    "ax.axvline(x=full_df[~full_df[\"connected\"]][stim].mean(), color='b', linestyle='--', label='Observed:\\nNot connected', lw=3)\n",
    "\n",
    "ax.text(ax.get_xlim()[0], ax.get_ylim()[1] * .95, f\"Z-Score: {zscore:.2f}\", fontsize=14)\n",
    "ax.legend(frameon=False, fontsize=14, bbox_to_anchor=[1, 1], loc=\"upper left\")\n",
    "\n",
    "ax.tick_params(axis='both', which='major', labelsize=15, width=2, length=8)  # Set larger tick labels\n",
    "ax.tick_params(axis='both', which='minor', labelsize=14, width=1, length=4)  # Set larger tick labels\n",
    "\n",
    "ax.spines['top'].set_visible(False)  # Hide the top spine\n",
    "ax.spines['right'].set_visible(False)  # Hide the right spine\n",
    "ax.spines['bottom'].set_linewidth(2)  # Hide the top spine\n",
    "ax.spines['left'].set_linewidth(2)  # Hide the right spine\n",
    "\n",
    "ax.set_xlabel(\"Total trace correlation during stimulus\", fontsize=16)\n",
    "ax.set_ylabel(\"Fraction of neuron pairs\", fontsize=15)\n",
    "sns.despine(offset=15, trim=False)\n",
    "plt.tight_layout()\n",
    "\n",
    "plt.show()"
   ]
  }
 ],
 "metadata": {
  "kernelspec": {
   "display_name": "Python 3 (ipykernel)",
   "language": "python",
   "name": "python3"
  },
  "language_info": {
   "codemirror_mode": {
    "name": "ipython",
    "version": 3
   },
   "file_extension": ".py",
   "mimetype": "text/x-python",
   "name": "python",
   "nbconvert_exporter": "python",
   "pygments_lexer": "ipython3",
   "version": "3.11.11"
  }
 },
 "nbformat": 4,
 "nbformat_minor": 5
}
