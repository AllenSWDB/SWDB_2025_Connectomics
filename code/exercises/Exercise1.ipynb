{
 "cells": [
  {
   "cell_type": "markdown",
   "id": "1a388bd4-bf44-4b2c-8ef6-6a24116feacf",
   "metadata": {},
   "source": [
    "<div style=\"border-left: 3px solid #000; padding: 1px; padding-left: 10px; background: #F0FAFF;\">\n",
    "\n",
    "# Exercise 1 : Visualizing connectivity across cell type and space\n",
    "\n",
    "The depth of a neuron in cortex tells us a lot about its cell type and role in the cortical network.\n",
    "Where a neuron makes synapses has important implications for its function, for example whether it targets cell bodies, basal dendrites, or apical tufts.\n",
    "\n",
    "In this exercise, we'll learn how to plot these properties of neurons outputs using the data from V1DD and standard plotting tools in Matplotlib.\n",
    "\n",
    "</div>"
   ]
  },
  {
   "cell_type": "markdown",
   "id": "94428533-c1f2-42ce-a3f9-717a4d5c1764",
   "metadata": {},
   "source": [
    "<div style=\"border-left: 3px solid #000; padding: 1px; padding-left: 10px; background: #F0FAFF;\">\n",
    "We'll start by loading up much of the same data from Workshop 1.\n",
    "</div>"
   ]
  },
  {
   "cell_type": "code",
   "execution_count": null,
   "id": "fdf4336d-0bde-48ed-b48e-1b5a5c6997ef",
   "metadata": {},
   "outputs": [],
   "source": [
    "# Import packages\n",
    "import sys\n",
    "from os.path import join as pjoin\n",
    "import platform\n",
    "\n",
    "import pandas as pd\n",
    "import numpy as np\n",
    "import seaborn as sns\n",
    "import matplotlib.pyplot as plt\n",
    "\n",
    "from standard_transform.datasets import v1dd_ds\n",
    "\n",
    "# Add the directory for the data and utilities\n",
    "mat_version = 1196\n",
    "\n",
    "platstring = platform.platform()\n",
    "system = platform.system()\n",
    "if system == \"Darwin\":\n",
    "    # macOS\n",
    "    data_root = \"/Volumes/Brain2025/\"\n",
    "elif system == \"Windows\":\n",
    "    # Windows (replace with the drive letter of USB drive)\n",
    "    data_root = \"E:/\"\n",
    "elif \"amzn\" in platstring:\n",
    "    # then on CodeOcean\n",
    "    data_root = \"/data/\"\n",
    "else:\n",
    "    # then your own linux platform\n",
    "    # EDIT location where you mounted hard drive\n",
    "    data_root = \"/media/$USERNAME/Brain2025/\"\n",
    "\n",
    "# Set the directory to load prepared data and utility code\n",
    "data_dir = pjoin(data_root, f\"v1dd_{mat_version}\")\n",
    "utils_dir = pjoin(\"..\", \"utils\")\n",
    "\n",
    "# Add utilities to path\n",
    "sys.path.append(utils_dir)\n"
   ]
  },
  {
   "cell_type": "code",
   "execution_count": null,
   "id": "3150485f",
   "metadata": {},
   "outputs": [],
   "source": [
    "# load the cell type information\n",
    "ct_df = pd.read_feather(f\"{data_dir}/soma_and_cell_type_{mat_version}.feather\")\n",
    "\n",
    "# Load synapses \n",
    "syn_df = syn_df = pd.read_feather(f\"{data_dir}/syn_df_all_to_proofread_to_all_{mat_version}.feather\")\n",
    "\n",
    "# Load the proofreading info\n",
    "proofread_ids = np.load(pjoin(data_dir, f\"proofread_axon_list_{mat_version}.npy\"))\n",
    "\n",
    "# These are approximate depth values in post-transformed microns for the pial surface, L1-L2/3 border, L2/3-L4 border, etc. down to the L6-wm border.\n",
    "layer_bounds = [\n",
    "    -15,\n",
    "    91,\n",
    "    261,\n",
    "    391,\n",
    "    537,\n",
    "    753,\n",
    "]  "
   ]
  },
  {
   "cell_type": "markdown",
   "id": "594b6335",
   "metadata": {},
   "source": [
    "<div style=\"border-left: 3px solid #000; padding: 1px; padding-left: 10px; background: #F0FAFF;\">\n",
    "\n",
    "## Step 0. Prepare some useful dataframes\n",
    "\n",
    "1. Set up a dataframe with cell types and soma depth as well as if cells are proofread or not.\n",
    "2. Set up the synapse dataframe for querying later.\n",
    "\n",
    "</div>"
   ]
  },
  {
   "cell_type": "code",
   "execution_count": null,
   "id": "525135fa",
   "metadata": {},
   "outputs": [],
   "source": [
    "ct_df[\"soma_depth\"] = (\n",
    "    ct_df[\"pt_position_trform_y\"] / 1_000\n",
    ")  # Convert from nanometers to microns\n",
    "ct_df.soma_depth.head()  # Approximate cell depth from pial surface in microns"
   ]
  },
  {
   "cell_type": "code",
   "execution_count": null,
   "id": "31063d73",
   "metadata": {},
   "outputs": [],
   "source": [
    "# What we are about to do requres that no root ids are duplicated in this, so let's double check:\n",
    "\n",
    "ct_df.drop_duplicates(\"pt_root_id\", keep=False, inplace=True)"
   ]
  },
  {
   "cell_type": "code",
   "execution_count": null,
   "id": "1a838c9f",
   "metadata": {},
   "outputs": [],
   "source": [
    "# Add proofreading information\n",
    "ct_df[\"is_proofread\"] = ct_df[\"pt_root_id\"].isin(proofread_ids)"
   ]
  },
  {
   "cell_type": "code",
   "execution_count": null,
   "id": "88a867ab-d551-43f7-b7c1-fa36533ba1f8",
   "metadata": {},
   "outputs": [],
   "source": [
    "# Add the synapse depth in consistent coordinates\n",
    "\n",
    "syn_df[\"synapse_depth\"] = v1dd_ds.transform_nm.apply_dataframe(\n",
    "    \"ctr_pt_position\", syn_df, projection=\"y\"\n",
    ")"
   ]
  },
  {
   "cell_type": "markdown",
   "id": "afa50e6f",
   "metadata": {},
   "source": [
    "<div style=\"border-left: 3px solid #000; padding: 1px; padding-left: 10px; background: #F0FAFF;\">\n",
    "\n",
    "# Exercise 1 : Visualizing Connectivity across cell type and space\n",
    "\n",
    "## Part 1:\n",
    "We want to visualize the combination of the spatial distribution of a neuron's synaptic outputs and where on their target cells they connect.\n",
    "\n",
    "Let's try to visualize these two aspects together — where a neuron makes its synapses and where the cell body is of the target neuron.\n",
    "\n",
    "</div>"
   ]
  },
  {
   "cell_type": "markdown",
   "id": "9819b7f7",
   "metadata": {},
   "source": [
    "<div style=\"background: #DFF0D8; border-radius: 3px; padding: 10px;\">\n",
    "\n",
    "<b> Task 1a: </b> For root id `864691132729533614`, a basket cell, make a scatter plot with the following requirements:\n",
    "\n",
    "1. Every dot is a synapse from one cell of interest onto any cell-typed target cell.\n",
    "2. The x-axis represents the depth of the target cell's *soma*.\n",
    "3. The y-axis represents the depth of the *synapse*.\n",
    "4. Each point is colored by the cell type of the target cell. It may be convenient to use two panels for extra clarity.\n",
    "\n",
    "Tip: Start by making a dataframe where every row is a synapse, and each column contains all the relevant information (e.g., synapse depth, target cell depth, target cell type).\n",
    "\n",
    "</div>\n",
    "\n"
   ]
  },
  {
   "cell_type": "code",
   "execution_count": null,
   "id": "4a9805d3",
   "metadata": {},
   "outputs": [],
   "source": []
  },
  {
   "cell_type": "markdown",
   "id": "fc52af6f",
   "metadata": {},
   "source": [
    "<div style=\"background: #DFF0D8; border-radius: 3px; padding: 10px;\">\n",
    "\n",
    "<b>Task 1b:</b> After you are happy with your plot for that cell, please look at a cell from another cell type, dendrite-targeting interneuron `864691132834855816`. What do you notice about the differences in how these plots appear? What can you infer about how these two different neurons connect to their targets?\n",
    "\n",
    "</div>"
   ]
  },
  {
   "cell_type": "code",
   "execution_count": null,
   "id": "ff7baf85",
   "metadata": {},
   "outputs": [],
   "source": []
  },
  {
   "cell_type": "markdown",
   "id": "eedd41d8",
   "metadata": {},
   "source": [
    "<div style=\"background: #DFF0D8; border-radius: 3px; padding: 10px;\">\n",
    "\n",
    "<b> Task 1c: </b> Find and plot the outputs of an excitatory neuron. How, if at all, do they differ from these inhibitory neurons?\n",
    "\n",
    "</div>"
   ]
  },
  {
   "cell_type": "code",
   "execution_count": null,
   "id": "459989eb",
   "metadata": {},
   "outputs": [],
   "source": []
  },
  {
   "cell_type": "markdown",
   "id": "a1617499",
   "metadata": {},
   "source": [
    "<div style=\"border-left: 3px solid #000; padding: 1px; padding-left: 10px; background: #F0FAFF;\">\n",
    "\n",
    "# Part 2:\n",
    "\n",
    "Knowing that depth matters a great deal, let's now visualize how neurons of different depths connect to one another.\n",
    "This will be like an adacency matrix, except instead of giving each connected pair of neurons a row and column, we will plot it at their depths.\n",
    "One nice thing about this plot is that, while cell typing can sometimes yield borderline or unclear edge cases, the depth of a cell is concrete and we can infer useful information about the laminar organization of the cortical circuit directly.\n",
    "\n",
    "</div>"
   ]
  },
  {
   "cell_type": "markdown",
   "id": "32ef9275",
   "metadata": {},
   "source": [
    "<div style=\"background: #DFF0D8; border-radius: 3px; padding: 10px;\">\n",
    "\n",
    "**Task 2a:** Make a scatterplot where:\n",
    "1. Each dot is a connection from one proofread presynaptic neuron to one proofread postsynaptic neuron.\n",
    "2. The x-axis represents the depth of the presynaptic neuron's soma.\n",
    "3. The y-axis represents the depth of the postsynaptic neuron's soma.\n",
    "4. Points are sized by the strength of the synaptic connection, as measured by the summed synapse size.\n",
    "\n",
    "As before, add layer boundaries for context.\n",
    "\n",
    "**Question:** Do you think summed synapse size or synapse count is a better measure of connection strength? Why? Is this true for all connections?\n",
    "\n",
    "</div>\n",
    "\n",
    "<div style=\"background: #f6d5f2ff; border-radius: 3px; padding: 10px;\">\n",
    "\n",
    "Tip: Explore the size distribution of synaptic connections so you can best display their sizes in the scatterplot.\n",
    "\n",
    "</div>"
   ]
  },
  {
   "cell_type": "code",
   "execution_count": null,
   "id": "25523d6b",
   "metadata": {},
   "outputs": [],
   "source": []
  },
  {
   "cell_type": "markdown",
   "id": "3f23599a",
   "metadata": {},
   "source": [
    "<div style=\"background: #DFF0D8; border-radius: 3px; padding: 10px;\">\n",
    "\n",
    "**Task 2b:** Next, add cell type information. Instead of one scatter plot, make four plots, where one plot corresponds to E $\\rightarrow$ E connections, one for E $\\rightarrow$ I connections, one for I $\\rightarrow$ E connections, and one for I $\\rightarrow$ I connections.\n",
    "\n",
    "**Question:** What do you notice about the geometry of each type of connection and how information flows across layers?\n",
    "\n",
    "If you want to see what, if anything, changes when including *all* postsynaptic neurons (instead of only proofread), feel free to do that as well as a stretch goal.\n",
    "\n",
    "</div>"
   ]
  },
  {
   "cell_type": "code",
   "execution_count": null,
   "id": "c300feea",
   "metadata": {},
   "outputs": [],
   "source": []
  },
  {
   "cell_type": "code",
   "execution_count": null,
   "id": "83d94c12-a3f8-4ad1-8ecc-47c8a07b3d19",
   "metadata": {},
   "outputs": [],
   "source": []
  }
 ],
 "metadata": {
  "kernelspec": {
   "display_name": "Python 3 (ipykernel)",
   "language": "python",
   "name": "python3"
  },
  "language_info": {
   "codemirror_mode": {
    "name": "ipython",
    "version": 3
   },
   "file_extension": ".py",
   "mimetype": "text/x-python",
   "name": "python",
   "nbconvert_exporter": "python",
   "pygments_lexer": "ipython3",
   "version": "3.12.4"
  }
 },
 "nbformat": 4,
 "nbformat_minor": 5
}
