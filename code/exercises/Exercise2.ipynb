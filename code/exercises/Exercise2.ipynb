{
 "cells": [
  {
   "cell_type": "markdown",
   "id": "a65ed396",
   "metadata": {},
   "source": [
    "# Exercise 2: Sub-cellular targeting by cell type in the mouse visual cortex\n",
    "\n",
    "<div style=\"border-left: 3px solid #000; padding: 1px; padding-left: 10px; background: #F0FAFF;\">\n",
    "At the end of Workshop 1, we saw how to get labels on whether synapses were onto spines,\n",
    "dendritic shafts, or somas. We also plotted this data as adjacency matrices, and made some\n",
    "qualitative observations about the connectivity of different cell types in the context of \n",
    "those connection types.\n",
    "\n",
    "Here, we'll go through a few steps to turn that into quantifications, specifically, what\n",
    "fraction of connections between cell types use spines, dendritic shafts, or somas.\n",
    "\n",
    "To accomplish this, we'll walk through some common Pandas operations (mapping, grouping/aggregating), and see how to apply them to this problem. \n",
    "\n",
    "As a bonus, we'll also get a glimpse out how this kind of data could be used to classify cell types. \n",
    "\n",
    "</div>\n",
    "\n",
    "![](../../figures/sss-diagram.png)\n"
   ]
  },
  {
   "cell_type": "markdown",
   "id": "ac9855dc",
   "metadata": {},
   "source": [
    "<div style=\"border-left: 3px solid #000; padding: 1px; padding-left: 10px; background: #F0FAFF;\">\n",
    "We'll start by loading up much of the same data from Workshop 1.\n",
    "</div>"
   ]
  },
  {
   "cell_type": "code",
   "execution_count": null,
   "id": "a7b1e89b",
   "metadata": {},
   "outputs": [],
   "source": [
    "# Import packages\n",
    "import sys\n",
    "from os.path import join as pjoin\n",
    "import platform\n",
    "\n",
    "import pandas as pd\n",
    "import numpy as np\n",
    "import seaborn as sns\n",
    "import matplotlib.pyplot as plt\n",
    "\n",
    "# Add the directory for the data and utilities\n",
    "mat_version = 1196\n",
    "\n",
    "platstring = platform.platform()\n",
    "system = platform.system()\n",
    "if system == \"Darwin\":\n",
    "    # macOS\n",
    "    data_root = \"/Volumes/Brain2025/\"\n",
    "elif system == \"Windows\":\n",
    "    # Windows (replace with the drive letter of USB drive)\n",
    "    data_root = \"E:/\"\n",
    "elif \"amzn\" in platstring:\n",
    "    # then on CodeOcean\n",
    "    data_root = \"/data/\"\n",
    "else:\n",
    "    # then your own linux platform\n",
    "    # EDIT location where you mounted hard drive\n",
    "    data_root = \"/media/$USERNAME/Brain2025/\"\n",
    "\n",
    "# Set the directory to load prepared data and utility code\n",
    "data_dir = pjoin(data_root, f\"v1dd_{mat_version}\")\n",
    "utils_dir = pjoin(\"..\", \"utils\")\n",
    "\n",
    "# Add utilities to path\n",
    "sys.path.append(utils_dir)\n"
   ]
  },
  {
   "cell_type": "markdown",
   "id": "fb301287",
   "metadata": {},
   "source": [
    "<div style=\"border-left: 3px solid #000; padding: 1px; padding-left: 10px; background: #F0FAFF;\">\n",
    "Load proofreading information about cells:\n",
    "</div>"
   ]
  },
  {
   "cell_type": "code",
   "execution_count": null,
   "id": "5e24b3c4",
   "metadata": {},
   "outputs": [],
   "source": [
    "# Loads cells with axon and dendrite proofreading\n",
    "dendrite_proof_root_ids = np.load(\n",
    "    pjoin(data_dir, f\"proofread_dendrite_list_{mat_version}.npy\")\n",
    ")\n",
    "axon_proof_root_ids = np.load(pjoin(data_dir, f\"proofread_axon_list_{mat_version}.npy\"))\n",
    "\n",
    "proof_root_ids = np.intersect1d(dendrite_proof_root_ids, axon_proof_root_ids)\n",
    "\n",
    "proof_root_ids"
   ]
  },
  {
   "cell_type": "markdown",
   "id": "3b78ff61",
   "metadata": {},
   "source": [
    "<div style=\"border-left: 3px solid #000; padding: 1px; padding-left: 10px; background: #F0FAFF;\">\n",
    "Load synapses and target structure info:\n",
    "</div>"
   ]
  },
  {
   "cell_type": "code",
   "execution_count": null,
   "id": "5184b63e",
   "metadata": {},
   "outputs": [],
   "source": [
    "syn_df = pd.read_feather(\n",
    "    f\"{data_dir}/syn_df_all_to_proofread_to_all_{mat_version}.feather\"\n",
    ").set_index(\"id\")\n",
    "target_structure = pd.read_feather(\n",
    "    pjoin(data_dir, f\"syn_label_df_all_to_proofread_to_all_{mat_version}.feather\")\n",
    ")[\"tag\"]\n",
    "\n",
    "# Combine the target information to the proofread synapses table\n",
    "syn_df[\"target_structure\"] = target_structure\n",
    "syn_df[\"target_structure\"] = syn_df[\"target_structure\"].fillna(\"unknown\")\n",
    "syn_df.head()"
   ]
  },
  {
   "cell_type": "markdown",
   "id": "77141f9d",
   "metadata": {},
   "source": [
    "<div style=\"border-left: 3px solid #000; padding: 1px; padding-left: 10px; background: #F0FAFF;\">\n",
    "Filter to synapses between proofread cells:\n",
    "</div>"
   ]
  },
  {
   "cell_type": "code",
   "execution_count": null,
   "id": "b4e137df",
   "metadata": {},
   "outputs": [],
   "source": [
    "from utils import filter_synapse_table\n",
    "\n",
    "proof_syn_df = filter_synapse_table(syn_df, proof_root_ids, proof_root_ids)\n",
    "\n",
    "# we're going to copy proof_syn_df to avoid modifying the original DataFrame -\n",
    "# pandas will often yell at you if you try to modify a DataFrame that is a view of\n",
    "# another DataFrame\n",
    "proof_syn_df = proof_syn_df.copy()\n",
    "\n",
    "proof_syn_df.head()"
   ]
  },
  {
   "cell_type": "markdown",
   "id": "dc340930",
   "metadata": {},
   "source": [
    "<div style=\"border-left: 3px solid #000; padding: 1px; padding-left: 10px; background: #F0FAFF;\">\n",
    "Load cell information:\n",
    "</div>"
   ]
  },
  {
   "cell_type": "code",
   "execution_count": null,
   "id": "597bac89",
   "metadata": {},
   "outputs": [],
   "source": [
    "cell_df = pd.read_feather(f\"{data_dir}/soma_and_cell_type_{mat_version}.feather\").set_index(\"pt_root_id\")\n",
    "cell_df = cell_df.loc[proof_root_ids]\n",
    "cell_df.head()"
   ]
  },
  {
   "cell_type": "markdown",
   "id": "0a44decb",
   "metadata": {},
   "source": [
    "<div style=\"border-left: 3px solid #000; padding: 1px; padding-left: 10px; background: #F0FAFF;\">\n",
    "Now that we have all of that data loaded up, we'll start by focusing on what information we need to select and combine. These are the columns in the synapse table we'll focus on:\n",
    "</div>"
   ]
  },
  {
   "cell_type": "code",
   "execution_count": null,
   "id": "17ff031d",
   "metadata": {},
   "outputs": [],
   "source": [
    "proof_syn_df[[\"pre_pt_root_id\", \"post_pt_root_id\", \"target_structure\"]].head()"
   ]
  },
  {
   "cell_type": "markdown",
   "id": "205403e3",
   "metadata": {},
   "source": [
    "<div style=\"border-left: 3px solid #000; padding: 1px; padding-left: 10px; background: #F0FAFF;\">\n",
    "\n",
    "We have a table of synapses, but we first want to know what cell types are involved for each.\n",
    "Although it is a little redundant, it is often useful to simply include the pre- and post-synaptic\n",
    "cell types in the synapse table. There are many ways to accomplish this in Pandas - a\n",
    "hint for one option is to use a column's [.map()](https://pandas.pydata.org/docs/reference/api/pandas.Series.map.html#pandas.Series.map) method.\n",
    "\n",
    "</div>\n",
    "\n",
    "<div style=\"background: #DFF0D8; border-radius: 3px; padding: 10px;\">\n",
    "\n",
    "<b> Task: </b> Use `.map()` or another method of your choosing to make two new columns in the synapse table:\n",
    "`proof_syn_df['pre_cell_type']` and `proof_syn_df['post_cell_type']`. The former should\n",
    "contain the cell type of the pre-synaptic cell for that row's synapse, and the latter\n",
    "should contain the cell type of the corresponding post-synaptic cell type.\n",
    "\n",
    "</div>\n"
   ]
  },
  {
   "cell_type": "code",
   "execution_count": null,
   "id": "8fbebb44",
   "metadata": {},
   "outputs": [],
   "source": [
    "proof_syn_df[\"pre_cell_type\"] = # YOUR CODE HERE\n",
    "proof_syn_df[\"post_cell_type\"] = # YOUR CODE HERE"
   ]
  },
  {
   "cell_type": "markdown",
   "id": "3031edc8",
   "metadata": {},
   "source": [
    "<div style=\"border-left: 3px solid #000; padding: 1px; padding-left: 10px; background: #F0FAFF; \">\n",
    "\n",
    "With this information in hand, let's start with just counting the number of synapses\n",
    "between each pair of cell types and in each target structure category.\n",
    "\n",
    "In Pandas, [.groupby()](https://pandas.pydata.org/docs/reference/api/pandas.DataFrame.groupby.html)\n",
    "is often key to aggregating data. Groupby takes a column name or list of column names, and\n",
    "then allows you to apply an aggregation function to subsets of the data that share the same values\n",
    "of those columns. For example, another way to count the total number of synapses in our\n",
    "table in each target structure category is to do:\n",
    "\n",
    "</div>\n"
   ]
  },
  {
   "cell_type": "code",
   "execution_count": null,
   "id": "b8fa9c17",
   "metadata": {},
   "outputs": [],
   "source": [
    "proof_syn_df.groupby(\n",
    "    \"target_structure\",\n",
    "    as_index=False,  # this makes the grouping variable(s) into columns instead of the index\n",
    ").size()  # .size() is a pandas method which counts the number of rows in each group"
   ]
  },
  {
   "cell_type": "markdown",
   "id": "25e3ea83",
   "metadata": {},
   "source": [
    "<div style=\"border-left: 3px solid #000; padding: 1px; padding-left: 10px; background: #F0FAFF;\">\n",
    "\n",
    "Aside: just to show the flexibility of `groupby`, this code will group by the `pre_pt_root_id` which indexes the pre-synaptic cell,\n",
    "select the `ctr_pt_position_y` column which represents the depth of each synapse in nanometers, \n",
    "and then compute the mean depth of those synapses from each cell.\n",
    "</div>"
   ]
  },
  {
   "cell_type": "code",
   "execution_count": null,
   "id": "5538740f",
   "metadata": {},
   "outputs": [],
   "source": [
    "(\n",
    "    proof_syn_df.groupby(\"pre_pt_root_id\", as_index=False)[\n",
    "        \"ctr_pt_position_y\"  # this is selecting a column \"ctr_pt_position_y\" by name\n",
    "    ].mean()  # this is a pandas method which computes the mean of the selected column per group\n",
    ")"
   ]
  },
  {
   "cell_type": "markdown",
   "id": "1fed20c0",
   "metadata": {},
   "source": [
    "<div style=\"border-left: 3px solid #000; padding: 1px; padding-left: 10px; background: #F0FAFF;\">\n",
    "\n",
    "More extensive tutorials on `groupby` can be found in the [Pandas User Guide](https://pandas.pydata.org/docs/user_guide/groupby.html).\n",
    "\n",
    "</div>"
   ]
  },
  {
   "cell_type": "markdown",
   "id": "8c84631f",
   "metadata": {},
   "source": [
    "<div style=\"border-left: 3px solid #000; padding: 1px; padding-left: 10px; background: #F0FAFF;\">\n",
    "\n",
    "Your turn! Returning to our problem of synapse categories and cell types, let's make a new DataFrame that counts the number of synapses between each pair of\n",
    "cell types in each target structure category. \n",
    "\n",
    "For instance, one row might represent the information \"there are 38 synapses from L2-IT cells to L3-IT cell shafts\". \n",
    "\n",
    "</div>\n",
    "\n",
    "<div style=\"background: #DFF0D8; border-radius: 3px; padding: 10px;\">\n",
    "\n",
    "<b> Task: </b>  Create a DataFrame that has four columns:\n",
    "- `pre_cell_type`\n",
    "- `post_cell_type`\n",
    "- `target_structure` (spine, shaft, soma, or unknown)\n",
    "- `size` (the number of synapses between the pre- and post-synaptic cell types in that target structure)\n",
    "\n",
    "</div>\n",
    "\n",
    "<div style=\"background: #f6d5f2ff; border-radius: 3px; padding: 10px;\">\n",
    "\n",
    "<b> Hint: </b> `.groupby()` can take a list of column names to group on!\n",
    "\n",
    "</div>"
   ]
  },
  {
   "cell_type": "code",
   "execution_count": null,
   "id": "fb314735",
   "metadata": {},
   "outputs": [],
   "source": [
    "group_structure_counts = # YOUR CODE HERE\n",
    "group_structure_counts"
   ]
  },
  {
   "cell_type": "markdown",
   "id": "c5960037",
   "metadata": {},
   "source": [
    "<div style=\"border-left: 3px solid #000; padding: 1px; padding-left: 10px; background: #F0FAFF;\">\n",
    "\n",
    "Now, because we are interested in the _proportion_ of synapses in each cell type pair, we\n",
    "also need to know the total number of synapses between each pair of cell types, regardless\n",
    "of target structure.\n",
    "\n",
    "\n",
    "</div>\n",
    "\n",
    "<div style=\"background: #DFF0D8; border-radius: 3px; padding: 10px;\">\n",
    "\n",
    "<b> Task: </b>  Create another dataframe called `group_total_counts`. It should have\n",
    "columns for `pre_cell_type`, `post_cell_type`, and `total_size` (the total number of synapses\n",
    "between the pre- and post-synaptic cell types, regardless of target structure). \n",
    "\n",
    "</div>\n",
    "\n",
    "\n",
    "<div style=\"background: #f6d5f2ff; border-radius: 3px; padding: 10px;\">\n",
    "\n",
    "Hint: you might find it useful to use `.rename(columns={\"old_name\": \"new_name\"})` to \n",
    "rename the `size` column to `total_size`.\n",
    "\n",
    "</div>\n"
   ]
  },
  {
   "cell_type": "code",
   "execution_count": null,
   "id": "a378757c",
   "metadata": {},
   "outputs": [],
   "source": [
    "group_total_counts = # YOUR CODE HERE\n",
    "group_total_counts"
   ]
  },
  {
   "cell_type": "markdown",
   "id": "510e0caa",
   "metadata": {},
   "source": [
    "<div style=\"border-left: 3px solid #000; padding: 1px; padding-left: 10px; background: #F0FAFF;\">\n",
    "\n",
    "Now, let's think about how to join these tables together. As usual, there are many ways\n",
    "to do this in Pandas, but one option is to use the [pd.merge()](https://pandas.pydata.org/docs/reference/api/pandas.merge.html) function. This method takes\n",
    "two DataFrames and joins them together based on one or more columns that they share.\n",
    "Think about what columns we want to join on! \n",
    "</div>\n",
    "\n",
    "\n",
    "<div style=\"background: #DFF0D8; border-radius: 3px; padding: 10px;\">\n",
    "\n",
    "<b> Task: </b> Use `pd.merge()` to create a new\n",
    "DataFrame called `group_counts` that contains the following columns:\n",
    "- `pre_cell_type`\n",
    "- `post_cell_type`\n",
    "- `target_structure`\n",
    "- `size` (the number of synapses between the pre- and post-synaptic cell types in that target structure)\n",
    "- `total_size` (the total number of synapses between the pre- and post-synaptic cell types, regardless of target structure)\n",
    "\n",
    "</div>\n",
    "\n"
   ]
  },
  {
   "cell_type": "code",
   "execution_count": null,
   "id": "61680178",
   "metadata": {},
   "outputs": [],
   "source": [
    "group_counts = # YOUR CODE HERE\n",
    "group_counts"
   ]
  },
  {
   "cell_type": "markdown",
   "id": "33586fbe",
   "metadata": {},
   "source": [
    "<div style=\"border-left: 3px solid #000; padding: 1px; padding-left: 10px; background: #F0FAFF;\">\n",
    "\n",
    "Now that we've gone to all that trouble to align our data in this single table, it should\n",
    "be easy to calculate the _proportion_ of synapses in each target structure category for each\n",
    "pair of cell types.\n",
    "\n",
    "</div>\n",
    "\n",
    "<div style=\"background: #DFF0D8; border-radius: 3px; padding: 10px;\">\n",
    "\n",
    "<b> Task: </b> Add a new column to `group_counts` called `proportion`, which is the\n",
    "`size` divided by `total_size`.\n",
    "\n",
    "</div>"
   ]
  },
  {
   "cell_type": "code",
   "execution_count": null,
   "id": "f036e115",
   "metadata": {},
   "outputs": [],
   "source": [
    "group_counts[\"proportion\"] = # YOUR CODE HERE\n",
    "group_counts"
   ]
  },
  {
   "cell_type": "markdown",
   "id": "71b9c2e9",
   "metadata": {},
   "source": [
    "<div style=\"border-left: 3px solid #000; padding: 1px; padding-left: 10px; background: #F0FAFF;\">\n",
    "\n",
    "We have what we said we wanted to compute - but let's transform it a bit to make it \n",
    "easier to plot. The code below will first query to select the proportions of synapses onto spines, \n",
    "and then [pivot](https://pandas.pydata.org/docs/reference/api/pandas.DataFrame.pivot.html) the DataFrame to make it square matrix which we'll plot.\n",
    "\n",
    "</div>"
   ]
  },
  {
   "cell_type": "code",
   "execution_count": null,
   "id": "e14bd57b",
   "metadata": {},
   "outputs": [],
   "source": [
    "square_spine_counts = group_counts.query(\"target_structure == 'spine'\").pivot(\n",
    "    index=\"pre_cell_type\", columns=\"post_cell_type\", values=\"proportion\"\n",
    ")\n",
    "\n",
    "# to make our plot look nicer, this code just reorders the categories to be first by\n",
    "# excitatory/inhibitory, then by layer, and finally by cell type\n",
    "categories = [\n",
    "    \"L2-IT\",  # excitatory cell types\n",
    "    \"L3-IT\",\n",
    "    \"L4-IT\",\n",
    "    \"L5-IT\",\n",
    "    \"L5-ET\",\n",
    "    \"L5-NP\",\n",
    "    \"L6-IT\",\n",
    "    \"L6-CT\",\n",
    "    \"DTC\",  # inhibitory cell types\n",
    "    \"ITC\",\n",
    "    \"PTC\",\n",
    "    \"STC\",\n",
    "]\n",
    "square_spine_counts = square_spine_counts.reindex(index=categories, columns=categories)\n",
    "square_spine_counts"
   ]
  },
  {
   "cell_type": "code",
   "execution_count": null,
   "id": "56f5ab22",
   "metadata": {},
   "outputs": [],
   "source": [
    "sns.heatmap(\n",
    "    square_spine_counts,\n",
    "    annot=True,\n",
    "    cmap=\"Reds\",\n",
    "    cbar_kws={\"label\": \"Proportion of synapses onto spines\"},\n",
    "    square=True,\n",
    "    fmt=\".2f\",  # format the annotations to 2 decimal places\n",
    ")"
   ]
  },
  {
   "cell_type": "markdown",
   "id": "9827019c",
   "metadata": {},
   "source": [
    "<div style=\"background: #DFF0D8; border-radius: 3px; padding: 10px;\">\n",
    "\n",
    "<b> Task: </b> Now, create similar plots for the other target structures. \n",
    "\n",
    "</div>"
   ]
  },
  {
   "cell_type": "code",
   "execution_count": null,
   "id": "7f2b9f00",
   "metadata": {},
   "outputs": [],
   "source": [
    "# YOUR CODE HERE"
   ]
  },
  {
   "cell_type": "markdown",
   "id": "75c056c0",
   "metadata": {},
   "source": [
    "<div style=\"background: #DFF0D8; border-radius: 3px; padding: 10px;\">\n",
    "\n",
    "<b> Question: </b> What general trends do you notice about which connection types are using which \"channels\" of synaptic targeting? What sources of bias might affect the reliability of these proportions?\n",
    "\n",
    "</div>"
   ]
  },
  {
   "cell_type": "markdown",
   "id": "815951a4",
   "metadata": {},
   "source": [
    "<div style=\"border-left: 3px solid #000; padding: 1px; padding-left: 10px; background: #F0FAFF;\">\n",
    "\n",
    "Excitatory neurons are often called \"spiny\" cells because they receive much of their total input onto spines. We just looked at this in terms of cell-type $\\rightarrow$ cell type targeting, but what about at the single cell level?\n",
    "\n",
    "</div>\n",
    "\n",
    "<div style=\"background: #DFF0D8; border-radius: 3px; padding: 10px;\">\n",
    "\n",
    "<b> Bonus task: </b> Compute the proportion of synapses onto spines __for each individual cell__. You should be able to do this using very similar tools to what we developed above. \n",
    "\n",
    "</div>\n",
    "\n",
    "<div style=\"background: #f6d5f2ff; border-radius: 3px; padding: 10px;\">\n",
    "\n",
    "<b> Hint: </b> you will want a different filter on the synapse table than we used before (why?). \n",
    "\n",
    "</div>"
   ]
  },
  {
   "cell_type": "code",
   "execution_count": null,
   "id": "a1337bbc",
   "metadata": {},
   "outputs": [],
   "source": [
    "# YOUR CODE HERE"
   ]
  },
  {
   "cell_type": "markdown",
   "id": "ad27dffa",
   "metadata": {},
   "source": [
    "<div style=\"background: #DFF0D8; border-radius: 3px; padding: 10px;\">\n",
    "\n",
    "<b>Question:</b> How does this one feature perform as a classifier for excitatory vs. inhibitory cells? What would be the drawbacks of using this feature as a classifier in practice? \n",
    "\n",
    "</div>"
   ]
  }
 ],
 "metadata": {
  "kernelspec": {
   "display_name": "Python 3 (ipykernel)",
   "language": "python",
   "name": "python3"
  },
  "language_info": {
   "codemirror_mode": {
    "name": "ipython",
    "version": 3
   },
   "file_extension": ".py",
   "mimetype": "text/x-python",
   "name": "python",
   "nbconvert_exporter": "python",
   "pygments_lexer": "ipython3",
   "version": "3.12.4"
  }
 },
 "nbformat": 4,
 "nbformat_minor": 5
}
