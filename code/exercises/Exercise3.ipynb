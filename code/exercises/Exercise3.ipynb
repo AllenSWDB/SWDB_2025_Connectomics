{
 "cells": [
  {
   "cell_type": "markdown",
   "id": "447f7a1e-5f0b-41a8-b6d4-d8531f1d91f6",
   "metadata": {},
   "source": [
    "# Exercise 3: Distance->Connection probability of Inhibitory cells\n",
    "\n",
    "<div style=\"border-left: 3px solid #000; padding: 1px; padding-left: 10px; background: #F0FAFF;\">\n",
    "In Workshop 2, we analyzed the relationship between distance between L3-IT neurons and their connectedness. Here, we will extend this analysis to other cell types, in particular inhibitory cells.\n",
    "\n",
    "</div>"
   ]
  },
  {
   "cell_type": "code",
   "execution_count": null,
   "id": "3f0423a3-8e7a-4a06-87ee-0f0819c8a9bb",
   "metadata": {},
   "outputs": [],
   "source": [
    "# Import packages\n",
    "import sys\n",
    "from os.path import join as pjoin\n",
    "import platform\n",
    "\n",
    "import itertools\n",
    "import pandas as pd\n",
    "import numpy as np\n",
    "from scipy import spatial\n",
    "import seaborn as sns\n",
    "import matplotlib.pyplot as plt\n",
    "\n",
    "# Add the directory for the data and utilities\n",
    "mat_version = 1196\n",
    "\n",
    "platstring = platform.platform()\n",
    "system = platform.system()\n",
    "if system == \"Darwin\":\n",
    "    # macOS\n",
    "    data_root = \"/Volumes/Brain2025/\"\n",
    "elif system == \"Windows\":\n",
    "    # Windows (replace with the drive letter of USB drive)\n",
    "    data_root = \"E:/\"\n",
    "elif \"amzn\" in platstring:\n",
    "    # then on CodeOcean\n",
    "    data_root = \"/data/\"\n",
    "else:\n",
    "    # then your own linux platform\n",
    "    # EDIT location where you mounted hard drive\n",
    "    data_root = \"/media/$USERNAME/Brain2025/\"\n",
    "\n",
    "# Set the directory to load prepared data and utility code\n",
    "data_dir = pjoin(data_root, f\"v1dd_{mat_version}\")\n",
    "utils_dir = pjoin(\"..\", \"utils\")\n",
    "\n",
    "# Add utilities to path\n",
    "sys.path.append(utils_dir)\n",
    "\n",
    "from utils import filter_synapse_table"
   ]
  },
  {
   "cell_type": "markdown",
   "id": "2064653e-77be-433e-9aa7-8c21a8d78646",
   "metadata": {},
   "source": [
    "<div style=\"border-left: 3px solid #000; padding: 1px; padding-left: 10px; background: #F0FAFF;\">\n",
    "Utility function to calculate distances\n",
    "</div>"
   ]
  },
  {
   "cell_type": "code",
   "execution_count": null,
   "id": "943c0cfb-4872-4331-951a-804374167d36",
   "metadata": {},
   "outputs": [],
   "source": [
    "def calculate_lateral_distances(pre_cell_df, post_cell_df=None):\n",
    "    \"\"\" Calculates the lateral distances in µm between all neurons.\"\"\"\n",
    "    if post_cell_df is None:\n",
    "        post_cell_df = pre_cell_df\n",
    "    \n",
    "    pre_lateral_locations = np.array(pre_cell_df[[\"pt_position_trform_x\", \"pt_position_trform_z\"]])\n",
    "    post_lateral_locations = np.array(post_cell_df[[\"pt_position_trform_x\", \"pt_position_trform_z\"]])\n",
    "    lateral_distances = spatial.distance.cdist(pre_lateral_locations, post_lateral_locations)\n",
    "    \n",
    "    id_pairs = list(itertools.product(pre_cell_df[\"pt_root_id\"], post_cell_df[\"pt_root_id\"]))\n",
    "    \n",
    "    lateral_distance_df = pd.DataFrame(id_pairs, columns=['pre_pt_root_id', 'post_pt_root_id'])\n",
    "    lateral_distance_df['distance'] = lateral_distances.flatten()\n",
    "\n",
    "    lateral_distance_df = lateral_distance_df[lateral_distance_df['pre_pt_root_id'] != lateral_distance_df['post_pt_root_id']]\n",
    "    return lateral_distance_df"
   ]
  },
  {
   "cell_type": "markdown",
   "id": "7d530073-ad27-4411-b3f5-d1bd575a4092",
   "metadata": {},
   "source": [
    "<div style=\"border-left: 3px solid #000; padding: 1px; padding-left: 10px; background: #F0FAFF;\">\n",
    "Load synapse, proofreading and cell type information.\n",
    "</div>"
   ]
  },
  {
   "cell_type": "code",
   "execution_count": null,
   "id": "4b8069a3-683f-489c-83ad-a968f365adf5",
   "metadata": {},
   "outputs": [],
   "source": [
    "# Loads cells with axon and dendrite proofreading\n",
    "dendrite_proof_root_ids = np.load(pjoin(data_dir, f'proofread_dendrite_list_{mat_version}.npy'))\n",
    "axon_proof_root_ids = np.load(pjoin(data_dir, f'proofread_axon_list_{mat_version}.npy'))\n",
    "\n",
    "print(f'There are {len(dendrite_proof_root_ids)} cells with acceptable dendrites, and {len(axon_proof_root_ids)} cells with axon proofreading')\n",
    "print(f'The number of cells with usable axons and dendrites is: {len(np.isin(axon_proof_root_ids, dendrite_proof_root_ids))}')"
   ]
  },
  {
   "cell_type": "code",
   "execution_count": null,
   "id": "f73ea5fd-4e03-4d8e-8792-6c9a3170e402",
   "metadata": {},
   "outputs": [],
   "source": [
    "syn_df = pd.read_feather(f\"{data_dir}/syn_df_all_to_proofread_to_all_{mat_version}.feather\")\n",
    "cell_df = pd.read_feather(f\"{data_dir}/soma_and_cell_type_{mat_version}.feather\")\n",
    "cell_df[[col for col in cell_df.columns if \"position\" in col]] /= 1000."
   ]
  },
  {
   "cell_type": "code",
   "execution_count": null,
   "id": "e1f1ff94-9f1b-404d-ab0f-d3e9a26ef378",
   "metadata": {},
   "outputs": [],
   "source": [
    "cell_df[\"cell_type\"].value_counts()"
   ]
  },
  {
   "cell_type": "markdown",
   "id": "6554b168-5b5a-4e37-954e-bc539a1a6e02",
   "metadata": {},
   "source": [
    "<div style=\"background: #DFF0D8; border-radius: 3px; padding: 10px;\">\n",
    "\n",
    "<b> Task: </b> Select an inhibitory subtype from the list above (recommend start: PTC) and plot the cell locations in the plane parallel to the cortical layers (as in the Workshop). Highlight the cells with proofread axons.\n",
    "\n",
    "The cell type abbreviations are \n",
    "\n",
    "<ul>\n",
    "  <li>PTC: Perisomatic targeting cells (e.g., basket cells)</li>\n",
    "  <li>DTC: Distal dendrite targeting cells (e.g., somatostatin cells)</li>\n",
    "  <li>STC: Sparse targeting cells (e.g., neurogliaform cells)</li>\n",
    "  <li>ITC: Inhibitory targeting cells (e.g., bipolar cells)</li>\n",
    "</ul>\n",
    "\n",
    "See [Schneider-Mizell, et al., 2025](https://www.nature.com/articles/s41586-024-07780-8) for more details on these types.\n",
    "\n",
    "</div>"
   ]
  },
  {
   "cell_type": "code",
   "execution_count": null,
   "id": "904f8ec0-31db-4e9a-bdb9-030a30158264",
   "metadata": {},
   "outputs": [],
   "source": [
    "# YOUR CODE HERE"
   ]
  },
  {
   "cell_type": "markdown",
   "id": "cfa40256-5b6f-4b52-b93f-24bd57b380c4",
   "metadata": {},
   "source": [
    "<div style=\"background: #DFF0D8; border-radius: 3px; padding: 10px;\">\n",
    "\n",
    "<b> Task: </b> Recretate the neuron-neuron distance histogram from the workshop for a different pair of cell types. In the workshop, we evaluated the distance-connectivity relation for potential connections from L3-IT cells to L3-IT cells. Here, recreate this analysis for PTCs to L3-IT cells. Create two separate \"sub_cell_df\". \"calculate_lateral_distances\" takes two dataframes (pre and post) and returns the distances between all possible pairs of pre and post cells. \n",
    "\n",
    "</div>"
   ]
  },
  {
   "cell_type": "code",
   "execution_count": null,
   "id": "090b0c06-4514-4d14-b560-7df76f593e10",
   "metadata": {},
   "outputs": [],
   "source": [
    "# YOUR CODE HERE"
   ]
  },
  {
   "cell_type": "markdown",
   "id": "53ff33b3-edc9-42de-afec-3c45d8c612b8",
   "metadata": {},
   "source": [
    "<div style=\"background: #DFF0D8; border-radius: 3px; padding: 10px;\">\n",
    "\n",
    "<b> Task: </b> Convert the histograms into connection probabilities by dividing the counts (connected vs all) for each bin. Create a plot that shows Connection probability vs distance. \n",
    "\n",
    "</div>"
   ]
  },
  {
   "cell_type": "code",
   "execution_count": null,
   "id": "1d8a5965-3247-40b5-ab59-e5c8c91f1dd5",
   "metadata": {},
   "outputs": [],
   "source": [
    "# YOUR CODE HERE"
   ]
  },
  {
   "cell_type": "markdown",
   "id": "fe887abb-9757-4dc4-9629-fad6d365595a",
   "metadata": {},
   "source": [
    "<div style=\"background: #DFF0D8; border-radius: 3px; padding: 10px;\">\n",
    "\n",
    "<b> Task: </b> Repeat the analysis above for different cell types, e.g., switch from PTC to DTC. How does the plot above change?\n",
    "\n",
    "</div>"
   ]
  }
 ],
 "metadata": {
  "kernelspec": {
   "display_name": "Python 3 (ipykernel)",
   "language": "python",
   "name": "python3"
  },
  "language_info": {
   "codemirror_mode": {
    "name": "ipython",
    "version": 3
   },
   "file_extension": ".py",
   "mimetype": "text/x-python",
   "name": "python",
   "nbconvert_exporter": "python",
   "pygments_lexer": "ipython3",
   "version": "3.11.11"
  }
 },
 "nbformat": 4,
 "nbformat_minor": 5
}
