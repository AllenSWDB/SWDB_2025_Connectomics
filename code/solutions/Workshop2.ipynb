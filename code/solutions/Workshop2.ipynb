{
 "cells": [
  {
   "cell_type": "markdown",
   "id": "437efd94-93bf-4afe-86a7-4b00362b72eb",
   "metadata": {},
   "source": [
    "# Workshop 2: Connectivity principles and structure function analysis\n",
    "\n",
    "<div style=\"border-left: 3px solid #000; padding: 1px; padding-left: 10px; background: #F0FAFF; \">\n",
    "\n",
    "\n",
    "In this workshop, we explore different two principles that govern which neurons are connected with each other:\n",
    "\n",
    "1. Spatial distance between neurons\n",
    "2. Correlation of acitivity traces during specific stimuli"
   ]
  },
  {
   "cell_type": "code",
   "execution_count": null,
   "id": "5ef012d7-1e7e-4030-886b-3950e6cdae87",
   "metadata": {},
   "outputs": [],
   "source": [
    "mat_version = 1169\n",
    "\n",
    "import os\n",
    "import sys\n",
    "from os.path import join as pjoin\n",
    "\n",
    "HOME = os.path.expanduser(\"~\")\n",
    "\n",
    "# NOTE: adjust for your system\n",
    "# data_dir = f\"{HOME}/SWDB_2025_Connectomics/data/\"\n",
    "# utils_dir = f\"{HOME}/SWDB_2025_Connectomics/code/utils\"\n",
    "\n",
    "# # NOTE: adjust for your system\n",
    "data_dir = pjoin('..','..','data', f\"v1dd_{mat_version}\")\n",
    "utils_dir = pjoin(\"..\",\"utils\")\n",
    "\n",
    "sys.path.append(utils_dir)"
   ]
  },
  {
   "cell_type": "markdown",
   "id": "8b2635ff-e78d-45de-96ba-a0ebf1742845",
   "metadata": {},
   "source": [
    "<div style=\"border-left: 3px solid #000; padding: 1px; padding-left: 10px; background: #F0FAFF; \">\n",
    "\n",
    "<h2> Import packages </h2>"
   ]
  },
  {
   "cell_type": "code",
   "execution_count": null,
   "id": "616aa012-a101-4c8e-ba4e-a53655aaaf08",
   "metadata": {},
   "outputs": [],
   "source": [
    "import pandas as pd\n",
    "import numpy as np\n",
    "from matplotlib import pyplot as plt\n",
    "import seaborn as sns\n",
    "import itertools\n",
    "from typing import Union, Optional\n",
    "from scipy import stats, spatial\n",
    "import itertools\n",
    "import tqdm\n",
    "from os.path import join as pjoin\n",
    "import collections"
   ]
  },
  {
   "cell_type": "markdown",
   "id": "b66db1c9-06f3-4f75-b635-5e5e98a0e0ec",
   "metadata": {},
   "source": [
    "<div style=\"border-left: 3px solid #000; padding: 1px; padding-left: 10px; background: #F0FAFF; \">\n",
    "\n",
    "## Preparation\n",
    "\n",
    "First, we are loading data files that were introduced in the first workshop such as the synapse and cell tables, and information about proofreading. This workshop does not require the CAVEclient."
   ]
  },
  {
   "cell_type": "code",
   "execution_count": null,
   "id": "51675565-9e7c-4374-b892-5448d14d166d",
   "metadata": {},
   "outputs": [],
   "source": [
    "# Move this to utils\n",
    "\n",
    "def filter_synapse_table(\n",
    "    synapse_table: pd.DataFrame, pre_root_ids=None, post_root_ids=None\n",
    "):\n",
    "    \"\"\"Filter synapse table by pre and post root ids.\n",
    "\n",
    "    Args:\n",
    "        synapse_table: synapse table with pre_pt_root_ids and post_pt_root_ids as pd.DataFrame\n",
    "        pre_root_ids: np.ndarray, list or pd.Series if root_ids to filter on the presynaptic side\n",
    "        post_root_ids: np.ndarray, list or pd.Series if root_ids to filter on the postsynaptic side\n",
    "\n",
    "    Returns:\n",
    "        synapse_table: filtered synapse table\n",
    "    \"\"\"\n",
    "\n",
    "    if pre_root_ids is not None:\n",
    "        assert isinstance(pre_root_ids, (np.ndarray, list, pd.core.series.Series)), (\n",
    "            f\"IDs have to be of type np.ndarray, list or pd.Series; got {type(pre_root_ids)}\"\n",
    "        )\n",
    "        pre_mask = np.isin(synapse_table[\"pre_pt_root_id\"], pre_root_ids)\n",
    "    else:\n",
    "        pre_mask = np.ones(len(synapse_table), dtype=bool)\n",
    "\n",
    "    if post_root_ids is not None:\n",
    "        assert isinstance(post_root_ids, (np.ndarray, list, pd.core.series.Series)), (\n",
    "            f\"IDs have to be of type np.ndarray, list or pd.Series; got {type(pre_root_ids)}\"\n",
    "        )\n",
    "        post_mask = np.isin(synapse_table[\"post_pt_root_id\"], post_root_ids)\n",
    "    else:\n",
    "        post_mask = np.ones(len(synapse_table), dtype=bool)\n",
    "\n",
    "    return synapse_table[pre_mask & post_mask]\n"
   ]
  },
  {
   "cell_type": "markdown",
   "id": "216c0a42-1730-4559-b622-88c4c1409553",
   "metadata": {},
   "source": [
    "Loading proofreading, cell and synapse information."
   ]
  },
  {
   "cell_type": "code",
   "execution_count": null,
   "id": "6d7d685f-3628-4064-87a4-5dcc4aa909d9",
   "metadata": {},
   "outputs": [],
   "source": [
    "# Loads cells with axon and dendrite proofreading\n",
    "dendrite_proof_root_ids = np.load(pjoin(data_dir, f'proofread_dendrite_list_{mat_version}.npy'))\n",
    "axon_proof_root_ids = np.load(pjoin(data_dir, f'proofread_axon_list_{mat_version}.npy'))\n",
    "\n",
    "print(f'There are {len(dendrite_proof_root_ids)} cells with acceptable dendrites, and {len(axon_proof_root_ids)} cells with axon proofreading')\n",
    "print(f'The number of cells with usable axons and dendrites is: {len(np.isin(axon_proof_root_ids, dendrite_proof_root_ids))}')"
   ]
  },
  {
   "cell_type": "code",
   "execution_count": null,
   "id": "9af8d169-c646-49bb-900b-88d8fcc55245",
   "metadata": {},
   "outputs": [],
   "source": [
    "syn_df = pd.read_feather(f\"{data_dir}/syn_df_all_to_proofread_to_all_{mat_version}.feather\")\n",
    "cell_df = pd.read_feather(f\"{data_dir}/soma_and_cell_type_{mat_version}.feather\")"
   ]
  },
  {
   "cell_type": "code",
   "execution_count": null,
   "id": "1dce9d56-067d-498f-a660-1c7c2ca1042a",
   "metadata": {},
   "outputs": [],
   "source": [
    "cell_df[\"cell_type\"].value_counts()"
   ]
  },
  {
   "cell_type": "markdown",
   "id": "9737cf35-edd1-4405-b6e9-4ffccaff945c",
   "metadata": {},
   "source": [
    "<div style=\"border-left: 3px solid #000; padding: 1px; padding-left: 10px; background: #F0FAFF; \">\n",
    "\n",
    "## #1: Connection probability vs distance\n",
    "\n",
    "Neurons are distributed in space. Lets look at the dataset from above. For now, we select one of the cell types available to us: L3-IT"
   ]
  },
  {
   "cell_type": "code",
   "execution_count": null,
   "id": "24f3e9a2-942c-43e4-9631-baf39efafa1d",
   "metadata": {},
   "outputs": [],
   "source": [
    "sub_cell_df = cell_df[cell_df[\"cell_type\"] == \"L3-IT\"]"
   ]
  },
  {
   "cell_type": "markdown",
   "id": "1a9835c3-27c2-4577-8794-671fc0a28a96",
   "metadata": {},
   "source": [
    "<div style=\"border-left: 3px solid #000; padding: 1px; padding-left: 10px; background: #F0FAFF; \">\n",
    "\n",
    "The dataset was not imaged in a perfectly upright position. We corrected for that and created the `*trform*` columns for each neuron position. We will use these for our analysis. However, to find neurons in neuroglancer, one has to still use the not-transformed positions."
   ]
  },
  {
   "cell_type": "code",
   "execution_count": null,
   "id": "b715bf81-7b09-4068-a0cb-1c6e21b80e1c",
   "metadata": {},
   "outputs": [],
   "source": [
    "sub_cell_df.head(5)"
   ]
  },
  {
   "cell_type": "code",
   "execution_count": null,
   "id": "81c8d6cd-4de0-4f02-9fd8-182e5d967d7c",
   "metadata": {},
   "outputs": [],
   "source": [
    "fig, ax = plt.subplots(figsize=(8, 8))\n",
    "\n",
    "ax.scatter(sub_cell_df[\"pt_position_trform_x\"] / 1000., sub_cell_df[\"pt_position_trform_z\"] / 1000., c=\"k\", s=1)\n",
    "\n",
    "ax.tick_params(axis='both', which='major', labelsize=15, width=2, length=8)  # Set larger tick labels\n",
    "ax.tick_params(axis='both', which='minor', labelsize=14, width=1, length=4)  # Set larger tick labels\n",
    "\n",
    "ax.spines['top'].set_visible(False)  # Hide the top spine\n",
    "ax.spines['right'].set_visible(False)  # Hide the right spine\n",
    "ax.spines['bottom'].set_linewidth(2)  # Hide the top spine\n",
    "ax.spines['left'].set_linewidth(2)  # Hide the right spine\n",
    "\n",
    "plt.show()"
   ]
  },
  {
   "cell_type": "markdown",
   "id": "305454f3-4804-4e01-8921-e19d850d02fd",
   "metadata": {},
   "source": [
    "<div style=\"border-left: 3px solid #000; padding: 1px; padding-left: 10px; background: #F0FAFF; \">\n",
    "\n",
    "To test whether distance and connectedness are correlated, we calculate the _lateral_ distance between pairs of neurons. The _lateral_ distance ignores cortical depth. For a pair of neurons the lateral distance can be calculated as the norm of the difference of their coordinates:"
   ]
  },
  {
   "cell_type": "code",
   "execution_count": null,
   "id": "c9a13bbe-4db8-4d3c-9381-7c86eac89f99",
   "metadata": {},
   "outputs": [],
   "source": [
    "pos_cols = [\"pt_position_trform_x\", \"pt_position_trform_z\"]\n",
    "\n",
    "difference = sub_cell_df.iloc[0][pos_cols] - sub_cell_df.iloc[1][pos_cols]\n",
    "np.linalg.norm(difference)"
   ]
  },
  {
   "cell_type": "markdown",
   "id": "49b6d158-9652-481d-9df2-20008e106464",
   "metadata": {},
   "source": [
    "<div style=\"border-left: 3px solid #000; padding: 1px; padding-left: 10px; background: #F0FAFF; \">\n",
    "\n",
    "This function computes the lateral distances across all neurons efficiently."
   ]
  },
  {
   "cell_type": "code",
   "execution_count": null,
   "id": "fbe977ab-8add-472f-9766-6cfadb64e3b9",
   "metadata": {},
   "outputs": [],
   "source": [
    "def calculate_lateral_distances(cell_df):\n",
    "    \"\"\" Calculates the lateral distances in µm between all neurons in the dataframe.\"\"\"\n",
    "    \n",
    "    lateral_locations = np.array(cell_df[[\"pt_position_trform_x\", \"pt_position_trform_z\"]])\n",
    "    lateral_distances = spatial.distance.cdist(lateral_locations, lateral_locations) / 1000.\n",
    "    \n",
    "    id_pairs = list(itertools.product(cell_df[\"pt_root_id\"], cell_df[\"pt_root_id\"]))\n",
    "    \n",
    "    lateral_distance_df = pd.DataFrame(id_pairs, columns=['pre_pt_root_id', 'post_pt_root_id'])\n",
    "    lateral_distance_df['distance'] = lateral_distances.flatten()\n",
    "\n",
    "    lateral_distance_df = lateral_distance_df[lateral_distance_df['pre_pt_root_id'] != lateral_distance_df['post_pt_root_id']]\n",
    "    return lateral_distance_df"
   ]
  },
  {
   "cell_type": "code",
   "execution_count": null,
   "id": "35338c13-5805-4fe8-beb9-18dc489b664b",
   "metadata": {},
   "outputs": [],
   "source": [
    "lateral_distance_df = calculate_lateral_distances(sub_cell_df)\n",
    "lateral_distance_df.head(5)"
   ]
  },
  {
   "cell_type": "code",
   "execution_count": null,
   "id": "2d9e9fa1-cae6-4eb7-86f4-ded669342e9a",
   "metadata": {},
   "outputs": [],
   "source": [
    "fig, ax = plt.subplots(figsize=(8, 5))\n",
    "\n",
    "sns.histplot(lateral_distance_df, x=\"distance\", fill=True, alpha=.5, color=\"k\", lw=3, element=\"step\")\n",
    "\n",
    "ax.tick_params(axis='both', which='major', labelsize=15, width=2, length=8)  \n",
    "ax.tick_params(axis='both', which='minor', labelsize=14, width=1, length=4)  \n",
    "\n",
    "ax.spines['top'].set_visible(False) \n",
    "ax.spines['right'].set_visible(False) \n",
    "ax.spines['bottom'].set_linewidth(2)  \n",
    "ax.spines['left'].set_linewidth(2) \n",
    "\n",
    "ax.set_xlabel(\"Lateral distance [µm]\", fontsize=15)\n",
    "ax.set_ylabel(\"Count\", fontsize=15)\n",
    "\n",
    "plt.show()"
   ]
  },
  {
   "cell_type": "markdown",
   "id": "71557938-3e49-492b-b8df-9104b9b3c971",
   "metadata": {},
   "source": [
    "<div style=\"border-left: 3px solid #000; padding: 1px; padding-left: 10px; background: #F0FAFF; \">\n",
    "\n",
    "This distribution shows the distance between all pairs of L3-IT neurons in the dataset. Next, we want to compare this distribution with the distances between the all _connected_ neuron pairs to see if they differ. For that, we combine the IDs we selected from our cell table with the proofreading information. Let's gather the proofread L3-IT neurons and use them to filter the synapse table."
   ]
  },
  {
   "cell_type": "code",
   "execution_count": null,
   "id": "af0f0bca-edb0-46af-bee4-0efd7323eb9e",
   "metadata": {},
   "outputs": [],
   "source": [
    "pre_root_ids = sub_cell_df[\"pt_root_id\"][np.isin(sub_cell_df[\"pt_root_id\"], axon_proof_root_ids)]\n",
    "post_root_ids = sub_cell_df[\"pt_root_id\"][np.isin(sub_cell_df[\"pt_root_id\"], dendrite_proof_root_ids)]\n",
    "\n",
    "analysis_syn_df = filter_synapse_table(syn_df, pre_root_ids, post_root_ids).reset_index(drop=True)"
   ]
  },
  {
   "cell_type": "markdown",
   "id": "caea2f66-cdb1-47fc-9aab-a248d182d1ed",
   "metadata": {},
   "source": [
    "<div style=\"border-left: 3px solid #000; padding: 1px; padding-left: 10px; background: #F0FAFF; \">\n",
    "\n",
    "Some neurons are connected with multiple synapses. Here, we will add them together to a single connection.\n",
    "\n",
    "</div>"
   ]
  },
  {
   "cell_type": "code",
   "execution_count": null,
   "id": "49784b30-533b-45b9-af53-b9d08b51f861",
   "metadata": {},
   "outputs": [],
   "source": [
    "conn_df = analysis_syn_df.groupby([\"pre_pt_root_id\", \"post_pt_root_id\"])[\"size\"].sum().reset_index()"
   ]
  },
  {
   "cell_type": "markdown",
   "id": "cc1e200c-0c3b-4eba-b6e2-59f1a6ae7a4a",
   "metadata": {},
   "source": [
    "<div style=\"border-left: 3px solid #000; padding: 1px; padding-left: 10px; background: #F0FAFF; \">\n",
    "\n",
    "Finally, we need to combine distance and connectivity information. We have this information in two separate dataframes:"
   ]
  },
  {
   "cell_type": "code",
   "execution_count": null,
   "id": "a7cf4ce9-2008-4f8e-a2c7-4ab92a52679f",
   "metadata": {},
   "outputs": [],
   "source": [
    "conn_df.head(5)"
   ]
  },
  {
   "cell_type": "code",
   "execution_count": null,
   "id": "5544052a-a005-4fd3-99f8-4720af214c0b",
   "metadata": {},
   "outputs": [],
   "source": [
    "lateral_distance_df.head(5)"
   ]
  },
  {
   "cell_type": "markdown",
   "id": "265ff39b-91a3-4d9e-a350-b4cec17fd28c",
   "metadata": {},
   "source": [
    "<div style=\"background: #DFF0D8; border-radius: 3px; padding: 10px;\">\n",
    "\n",
    "<p><b>Task:</b> For each connection, we would like to know what the distance is between the two neurons. Write the merge function to combine the distance and synapse information of the two tables. Note that the connectivity table has far fewer entries than the distance table. By merging them, we can filter the distance table down to the neuron pairs for which we have a synaptic connection.\n",
    "\n",
    "</div>"
   ]
  },
  {
   "cell_type": "code",
   "execution_count": null,
   "id": "bc66e5ee-5335-42a7-9f95-b18bb67627aa",
   "metadata": {},
   "outputs": [],
   "source": [
    "# conn_dist_df = "
   ]
  },
  {
   "cell_type": "code",
   "execution_count": null,
   "id": "4f6e6f53-2f34-4238-8498-51ebfc9df4b9",
   "metadata": {},
   "outputs": [],
   "source": [
    "conn_dist_df = pd.merge(conn_df, lateral_distance_df, on=[\"pre_pt_root_id\", \"post_pt_root_id\"])"
   ]
  },
  {
   "cell_type": "code",
   "execution_count": null,
   "id": "0774bd50-0393-40b1-bce9-804e79b49331",
   "metadata": {},
   "outputs": [],
   "source": [
    "conn_dist_df.shape, conn_df.shape, lateral_distance_df.shape"
   ]
  },
  {
   "cell_type": "markdown",
   "id": "31ea36a8-958e-4299-81a7-57bfee22e3fa",
   "metadata": {},
   "source": [
    "<div style=\"border-left: 3px solid #000; padding: 1px; padding-left: 10px; background: #F0FAFF; \">\n",
    "\n",
    "Let's compare the two distribution in plot. We use `stat=\"probability\"` to plot them at the same scale.\n",
    "\n",
    "</d>"
   ]
  },
  {
   "cell_type": "code",
   "execution_count": null,
   "id": "3de24a82-4897-4caa-b6aa-ccd8ead48e2e",
   "metadata": {},
   "outputs": [],
   "source": [
    "bins = np.linspace(0, 1000, 101)\n",
    "\n",
    "fig, ax = plt.subplots(figsize=(8, 5))\n",
    "\n",
    "sns.histplot(lateral_distance_df, x=\"distance\", stat=\"probability\", bins=bins, element=\"step\", label=\"all pairs\", lw=3, fill=True, alpha=.5, color=\"k\")\n",
    "sns.histplot(conn_dist_df, x=\"distance\", stat=\"probability\", bins=bins, element=\"step\", label=\"connected pairs\", lw=3, fill=True, alpha=.5, color=\"r\")\n",
    "\n",
    "ax.legend(frameon=False, fontsize=14)\n",
    "\n",
    "ax.tick_params(axis='both', which='major', labelsize=15, width=2, length=8)  # Set larger tick labels\n",
    "ax.tick_params(axis='both', which='minor', labelsize=14, width=1, length=4)  # Set larger tick labels\n",
    "\n",
    "ax.spines['top'].set_visible(False)  # Hide the top spine\n",
    "ax.spines['right'].set_visible(False)  # Hide the right spine\n",
    "ax.spines['bottom'].set_linewidth(2)  # Hide the top spine\n",
    "ax.spines['left'].set_linewidth(2)  # Hide the right spine\n",
    "\n",
    "ax.set_xlabel(\"Lateral distance [µm]\", fontsize=15)\n",
    "ax.set_ylabel(\"Fraction of neuron pairs\", fontsize=15)\n",
    "\n",
    "sns.despine(offset=15, trim=False)\n",
    "plt.tight_layout()\n",
    "\n",
    "plt.show()"
   ]
  },
  {
   "cell_type": "markdown",
   "id": "481d83a7-86e6-4196-9efd-15e575334e92",
   "metadata": {},
   "source": [
    "<div style=\"border-left: 3px solid #000; padding: 1px; padding-left: 10px; background: #F0FAFF; \">\n",
    "\n",
    "To get a better intution, we will look at some examples of connected neuron pairs across distance:\n",
    "\n",
    "- 10µm: Neuroglancer link\n",
    "- 50µm: Neuroglancer link\n",
    "- 100µm: Neuroglancer link\n",
    "- 500µm: Neuroglancer link"
   ]
  },
  {
   "cell_type": "markdown",
   "id": "376fe8ea-7296-41be-9fca-c0b775a5e2d2",
   "metadata": {},
   "source": [
    "<div style=\"background: #DFF0D8; border-radius: 3px; padding: 10px;\">\n",
    "\n",
    "<p><b>Question:</b> Is this a fair comparison? Does our NULL distribution, the one of all pairs, represent the set of possible connections well?\n",
    "\n",
    "</div>"
   ]
  },
  {
   "cell_type": "code",
   "execution_count": null,
   "id": "ed3ff6a1-9be5-45d7-b94d-6efc1b4e8d01",
   "metadata": {},
   "outputs": [],
   "source": [
    "lateral_distance_proofread_df = lateral_distance_df.copy()\n",
    "lateral_distance_proofread_df = lateral_distance_proofread_df[np.isin(lateral_distance_proofread_df[\"pre_pt_root_id\"], pre_root_ids)]\n",
    "lateral_distance_proofread_df = lateral_distance_proofread_df[np.isin(lateral_distance_proofread_df[\"post_pt_root_id\"], post_root_ids)]"
   ]
  },
  {
   "cell_type": "code",
   "execution_count": null,
   "id": "9cba7ce3-8438-4b15-9620-3de099fabb24",
   "metadata": {},
   "outputs": [],
   "source": [
    "bins = np.linspace(0, 1000, 101)\n",
    "\n",
    "fig, ax = plt.subplots(figsize=(8, 5))\n",
    "\n",
    "sns.histplot(lateral_distance_proofread_df, x=\"distance\", stat=\"probability\", bins=bins, element=\"step\", label=\"proofread pairs\", lw=3, fill=True, alpha=.5, color=\"k\")\n",
    "sns.histplot(conn_dist_df, x=\"distance\", stat=\"probability\", bins=bins, element=\"step\", label=\"connected pairs\", lw=3, fill=True, alpha=.5, color=\"r\")\n",
    "\n",
    "ax.legend(frameon=False, fontsize=14)\n",
    "\n",
    "ax.tick_params(axis='both', which='major', labelsize=15, width=2, length=8)  # Set larger tick labels\n",
    "ax.tick_params(axis='both', which='minor', labelsize=14, width=1, length=4)  # Set larger tick labels\n",
    "\n",
    "ax.spines['top'].set_visible(False)  # Hide the top spine\n",
    "ax.spines['right'].set_visible(False)  # Hide the right spine\n",
    "ax.spines['bottom'].set_linewidth(2)  # Hide the top spine\n",
    "ax.spines['left'].set_linewidth(2)  # Hide the right spine\n",
    "\n",
    "ax.set_xlabel(\"Lateral distance [µm]\", fontsize=15)\n",
    "ax.set_ylabel(\"Fraction of neuron pairs\", fontsize=15)\n",
    "sns.despine(offset=15, trim=False)\n",
    "plt.tight_layout()\n",
    "\n",
    "plt.show()"
   ]
  },
  {
   "cell_type": "markdown",
   "id": "16df99f3-5b8b-4cff-83c5-ce4552a17c5a",
   "metadata": {},
   "source": [
    "<div style=\"border-left: 3px solid #000; padding: 1px; padding-left: 10px; background: #F0FAFF; \">\n",
    "\n",
    "Another way to represent the data above is to calculate a \"connection probability\". That is, <b>how likely is it that two neurons are connected given their lateral distance from each other? </b> \n",
    "\n",
    "There are different ways to achieve this, here we will calculate the connection probability for every distance bin."
   ]
  },
  {
   "cell_type": "code",
   "execution_count": null,
   "id": "bf0641dd-ded8-4f21-bc96-f141eeaffef2",
   "metadata": {},
   "outputs": [],
   "source": [
    "bins = np.linspace(0, 500, 101)\n",
    "proofread_pair_counts = np.histogram(lateral_distance_proofread_df[\"distance\"], bins)[0]\n",
    "connected_pair_counts = np.histogram(conn_dist_df[\"distance\"], bins)[0]\n",
    "\n",
    "connection_probability = connected_pair_counts / proofread_pair_counts\n",
    "\n",
    "connection_probability_df = pd.DataFrame({\"bin_id\": np.arange(len(bins)-1), \"probability\": connection_probability})"
   ]
  },
  {
   "cell_type": "code",
   "execution_count": null,
   "id": "af53b896-b310-4e7d-a851-5af699485bfc",
   "metadata": {},
   "outputs": [],
   "source": [
    "fig, ax = plt.subplots(figsize=(8, 5))\n",
    "\n",
    "sns.lineplot(x=bins[:-1], y=connection_probability, lw=3, color=\"k\")\n",
    "\n",
    "ax.tick_params(axis='both', which='major', labelsize=15, width=2, length=8)  # Set larger tick labels\n",
    "ax.tick_params(axis='both', which='minor', labelsize=14, width=1, length=4)  # Set larger tick labels\n",
    "\n",
    "ax.spines['top'].set_visible(False)  # Hide the top spine\n",
    "ax.spines['right'].set_visible(False)  # Hide the right spine\n",
    "ax.spines['bottom'].set_linewidth(2)  # Hide the top spine\n",
    "ax.spines['left'].set_linewidth(2)  # Hide the right spine\n",
    "\n",
    "ax.set_xlabel(\"Lateral distance [µm]\", fontsize=15)\n",
    "ax.set_ylabel(\"Connection probability\", fontsize=15)\n",
    "\n",
    "sns.despine(offset=15, trim=False)\n",
    "plt.tight_layout()\n",
    "plt.show()"
   ]
  },
  {
   "cell_type": "markdown",
   "id": "3bb5d9a7-3515-4fce-b799-408b30f86802",
   "metadata": {},
   "source": [
    "<div style=\"border-left: 3px solid #000; padding: 1px; padding-left: 10px; background: #F0FAFF; \">\n",
    "\n",
    "## #2: Structure vs function: Connectivity vs activity correlation\n",
    "\n",
    "The V1dd dataset is a structure function dataset. We have functional measurements for many cells in the datasets. These are very rich and can be related to behavioral data. The data is stored in nwb files. Here is an example of the data that is accesible:"
   ]
  },
  {
   "cell_type": "code",
   "execution_count": null,
   "id": "456e0601-7d39-4923-b089-6ea46f9f5fd1",
   "metadata": {},
   "outputs": [],
   "source": [
    "# Plot of nwb files"
   ]
  },
  {
   "cell_type": "markdown",
   "id": "92b96f1a-8d3f-4b91-8b67-bbabb100bdc8",
   "metadata": {},
   "source": [
    "<div style=\"border-left: 3px solid #000; padding: 1px; padding-left: 10px; background: #F0FAFF; \">\n",
    "\n",
    "<b>Activity correlations</b> For the purpose of this workshop, we precalculated correlations between cells. To be more precise, we calculated the total correlation of the activity traces of neurons imaged during the same session during the same stimulus condition.\n",
    "\n",
    "If you want to use the V1dd dataset for a project, this kind of analysis could be extended to include behavioral data and create more sophisticated functional comparisons between cells which can then be related to the connectivity data.\n",
    "\n",
    "<b>Coregistration</b>: To analyze the functional and connectivity data, neurons in both datasets need to be _coregistered_, that is an ROI in the activity stack needs to be linked with a cell body in the EM stack. The data below only contains those neurons which were coregistered."
   ]
  },
  {
   "cell_type": "code",
   "execution_count": null,
   "id": "ac63d2cd-8525-425d-9e21-bc7c7f4eaace",
   "metadata": {},
   "outputs": [],
   "source": [
    "corr_coreg_df = pd.read_feather(f\"{data_dir}/cell_cell_correlations_by_stimulus_coregistered.feather\")"
   ]
  },
  {
   "cell_type": "code",
   "execution_count": null,
   "id": "2b8ee61d-4b72-4211-95cd-4653de465f32",
   "metadata": {},
   "outputs": [],
   "source": [
    "corr_coreg_df.head(5)"
   ]
  },
  {
   "cell_type": "code",
   "execution_count": null,
   "id": "8941a04f-f177-408e-a659-c02a3af415bb",
   "metadata": {},
   "outputs": [],
   "source": [
    "stimulus_conditions = corr_coreg_df.columns[3:]\n",
    "stimulus_conditions"
   ]
  },
  {
   "cell_type": "markdown",
   "id": "dad9caf0-658e-4c6b-a15a-703c75bca655",
   "metadata": {},
   "source": [
    "<div style=\"border-left: 3px solid #000; padding: 1px; padding-left: 10px; background: #F0FAFF; \">\n",
    "\n",
    "Can we treat the different stimulus conditions as separate experiments or would we expect all results to be similar no matter what stimulus condition we base or analysis on? Next, we analyze how correlated the co-activities of cells are between the different stimulus conditions. For that, we calculate the correlation of the pairwise correlations. "
   ]
  },
  {
   "cell_type": "markdown",
   "id": "e34d02c5-8fa7-4a52-9cd4-b241217678f1",
   "metadata": {},
   "source": [
    "<div style=\"background: #DFF0D8; border-radius: 3px; padding: 10px;\">\n",
    "\n",
    "<p><b>Discussion:</b> What outcome do you expect and what do different results mean for the use of the neuron-neuron correlations for further analysis?\n",
    "\n",
    "</div>"
   ]
  },
  {
   "cell_type": "code",
   "execution_count": null,
   "id": "3b8e3808-992e-4155-a141-84070c20206a",
   "metadata": {},
   "outputs": [],
   "source": [
    "stim_stim_corr_df = corr_coreg_df[stimulus_conditions].corr()"
   ]
  },
  {
   "cell_type": "code",
   "execution_count": null,
   "id": "8da0e685-aeab-45c4-ba01-0ee0cb26e48a",
   "metadata": {},
   "outputs": [],
   "source": [
    "fig, ax = plt.subplots(figsize=(8, 4), dpi=200)\n",
    "\n",
    "heatmap = sns.heatmap(stim_stim_corr_df, ax=ax, vmax=.5, vmin=0)\n",
    "colorbar = heatmap.collections[0].colorbar\n",
    "colorbar.set_label(\"Correlation of neuron-neuron corrs.\", fontsize=15)\n",
    "\n",
    "ax.tick_params(axis='both', which='major', labelsize=16, width=2, length=8)  # Set larger tick labels\n",
    "ax.tick_params(axis='both', which='minor', labelsize=14, width=1, length=4)  # Set larger tick labels\n",
    "\n",
    "ax.spines['top'].set_visible(False)  # Hide the top spine\n",
    "ax.spines['right'].set_visible(False)  # Hide the right spine\n",
    "ax.spines['bottom'].set_linewidth(2)  # Hide the top spine\n",
    "ax.spines['left'].set_linewidth(2)  # Hide the right spine\n",
    "\n",
    "ax.set_xticklabels([])\n",
    "ax.set_xlabel(\"\")\n",
    "ax.set_ylabel(\"\")\n",
    "sns.despine(offset=15, trim=False)\n",
    "plt.tight_layout()\n",
    "plt.show()"
   ]
  },
  {
   "cell_type": "markdown",
   "id": "a99fbc06-fe77-40f8-8c56-403a77762505",
   "metadata": {},
   "source": [
    "<div style=\"border-left: 3px solid #000; padding: 1px; padding-left: 10px; background: #F0FAFF; \">\n",
    "\n",
    "Another way to compare the different stimulus conditions is to plot the distributions of the neuron-neuron correlations."
   ]
  },
  {
   "cell_type": "code",
   "execution_count": null,
   "id": "b0413d76-03c2-4662-abb0-1f80aafe29d3",
   "metadata": {},
   "outputs": [],
   "source": [
    "stim = stimulus_conditions[2]"
   ]
  },
  {
   "cell_type": "code",
   "execution_count": null,
   "id": "0638a2bb-1384-426b-93fb-ca5c97534ae7",
   "metadata": {},
   "outputs": [],
   "source": [
    "fig, ax = plt.subplots(figsize=(8, 4), dpi=200)\n",
    "\n",
    "sns.histplot(data=corr_coreg_df, x=stim, label=stim, bins=np.linspace(-1, 1, 201), \n",
    "             element=\"step\", lw=3, ax=ax, stat=\"probability\", alpha=.5)\n",
    "\n",
    "ax.legend(frameon=False)\n",
    "ax.tick_params(axis='both', which='major', labelsize=16, width=2, length=8)  # Set larger tick labels\n",
    "ax.tick_params(axis='both', which='minor', labelsize=14, width=1, length=4)  # Set larger tick labels\n",
    "\n",
    "ax.spines['top'].set_visible(False)  # Hide the top spine\n",
    "ax.spines['right'].set_visible(False)  # Hide the right spine\n",
    "ax.spines['bottom'].set_linewidth(2)  # Hide the top spine\n",
    "ax.spines['left'].set_linewidth(2)  # Hide the right spine\n",
    "ax.set_xlim(-.1, .3)\n",
    "\n",
    "ax.set_xlabel(\"Total trace correlation during stimulus\", fontsize=16)\n",
    "ax.set_ylabel(\"Fraction of neuron-pairs\", fontsize=16)\n",
    "sns.despine(offset=15, trim=False)\n",
    "plt.tight_layout()\n",
    "plt.show()"
   ]
  },
  {
   "cell_type": "markdown",
   "id": "e3b22671-cb09-432b-9d8a-9e29f39b5921",
   "metadata": {},
   "source": [
    "<div style=\"background: #DFF0D8; border-radius: 3px; padding: 10px;\">\n",
    "\n",
    "<p><b>Task:</b> Add the distributions for the other stimulus conditions into the same plot.\n",
    "\n",
    "</div>"
   ]
  },
  {
   "cell_type": "code",
   "execution_count": null,
   "id": "5a6cd82e-8800-4bf8-8a26-ef7bb2784ba4",
   "metadata": {},
   "outputs": [],
   "source": [
    "fig, ax = plt.subplots(figsize=(8, 4), dpi=200)\n",
    "\n",
    "for stim in stimulus_conditions:\n",
    "    sns.histplot(data=corr_coreg_df, x=stim, label=stim, bins=np.linspace(-1, 1, 201), \n",
    "                 element=\"step\", lw=3, ax=ax, stat=\"probability\", alpha=.5)\n",
    "\n",
    "ax.legend(frameon=False)\n",
    "ax.tick_params(axis='both', which='major', labelsize=16, width=2, length=8)  # Set larger tick labels\n",
    "ax.tick_params(axis='both', which='minor', labelsize=14, width=1, length=4)  # Set larger tick labels\n",
    "\n",
    "ax.spines['top'].set_visible(False)  # Hide the top spine\n",
    "ax.spines['right'].set_visible(False)  # Hide the right spine\n",
    "ax.spines['bottom'].set_linewidth(2)  # Hide the top spine\n",
    "ax.spines['left'].set_linewidth(2)  # Hide the right spine\n",
    "ax.set_xlim(-.1, .3)\n",
    "\n",
    "ax.set_xlabel(\"Total trace correlation during stimulus\", fontsize=16)\n",
    "ax.set_ylabel(\"Fraction of neuron-pairs\", fontsize=16)\n",
    "sns.despine(offset=15, trim=False)\n",
    "plt.tight_layout()\n",
    "plt.show()"
   ]
  },
  {
   "cell_type": "markdown",
   "id": "89a4a350-4bf2-4850-8b93-075844c8982a",
   "metadata": {},
   "source": [
    "<div style=\"border-left: 3px solid #000; padding: 1px; padding-left: 10px; background: #F0FAFF; \">\n",
    "\n",
    "With the activity correlation between neurons in hand, we want to answer one question: <b>Are neurons that are more correlated in their activity, more likely to be connected with each other?</b>"
   ]
  },
  {
   "cell_type": "markdown",
   "id": "e0bbf4d0-92c6-4f1a-86df-ca639b6c8ee1",
   "metadata": {},
   "source": [
    "<div style=\"border-left: 3px solid #000; padding: 1px; padding-left: 10px; background: #F0FAFF; \">\n",
    "\n",
    "As before, we will limit this analysis to L3-IT neurons. We collect the connectivity information between these neurons as before."
   ]
  },
  {
   "cell_type": "code",
   "execution_count": null,
   "id": "ba680fc2-0bc5-4864-959b-5b61cd762d17",
   "metadata": {},
   "outputs": [],
   "source": [
    "sub_cell_df = cell_df[cell_df[\"cell_type\"] == \"L3-IT\"]"
   ]
  },
  {
   "cell_type": "code",
   "execution_count": null,
   "id": "54c60fb5-2fe9-45d7-b8e1-db03b1c488bf",
   "metadata": {},
   "outputs": [],
   "source": [
    "pre_root_ids = sub_cell_df[\"pt_root_id\"][np.isin(sub_cell_df[\"pt_root_id\"], axon_proof_root_ids)]\n",
    "post_root_ids = sub_cell_df[\"pt_root_id\"][np.isin(sub_cell_df[\"pt_root_id\"], dendrite_proof_root_ids)]"
   ]
  },
  {
   "cell_type": "code",
   "execution_count": null,
   "id": "72d8f430-424b-4311-9511-507c72a178cf",
   "metadata": {},
   "outputs": [],
   "source": [
    "analysis_syn_df = filter_synapse_table(syn_df, axon_proof_root_ids, dendrite_proof_root_ids).reset_index(drop=True)\n",
    "conn_df = analysis_syn_df.groupby([\"pre_pt_root_id\", \"post_pt_root_id\"])[\"size\"].sum().reset_index()"
   ]
  },
  {
   "cell_type": "markdown",
   "id": "08735583-3308-4eb0-9476-0f09296f6b4f",
   "metadata": {},
   "source": [
    "<div style=\"border-left: 3px solid #000; padding: 1px; padding-left: 10px; background: #F0FAFF; \">\n",
    "\n",
    "We will limit our analysis to just those neurons for which we have proofreading data available"
   ]
  },
  {
   "cell_type": "code",
   "execution_count": null,
   "id": "d1bc31bd-546d-4c03-a167-0aa7a342e3b5",
   "metadata": {},
   "outputs": [],
   "source": [
    "corr_coreg_proofread_df = corr_coreg_df.copy()\n",
    "corr_coreg_proofread_df = corr_coreg_proofread_df[np.isin(corr_coreg_proofread_df[\"pre_pt_root_id\"], pre_root_ids)]\n",
    "corr_coreg_proofread_df = corr_coreg_proofread_df[np.isin(corr_coreg_proofread_df[\"post_pt_root_id\"], post_root_ids)]"
   ]
  },
  {
   "cell_type": "markdown",
   "id": "c2df1635-7f99-4113-b44c-f95d9de96454",
   "metadata": {},
   "source": [
    "<div style=\"border-left: 3px solid #000; padding: 1px; padding-left: 10px; background: #F0FAFF; \">\n",
    "\n",
    "Let's compare the connectivity and the activity correlation data."
   ]
  },
  {
   "cell_type": "code",
   "execution_count": null,
   "id": "2f5d7b24-de79-40cf-a269-91e11c26cd48",
   "metadata": {},
   "outputs": [],
   "source": [
    "conn_corr_df = pd.merge(conn_df, corr_coreg_proofread_df, on=[\"pre_pt_root_id\", \"post_pt_root_id\"])"
   ]
  },
  {
   "cell_type": "code",
   "execution_count": null,
   "id": "d43dacd8-5f73-435d-8db1-a9cea61f803e",
   "metadata": {},
   "outputs": [],
   "source": [
    "corr_coreg_proofread_df.shape, conn_corr_df.shape"
   ]
  },
  {
   "cell_type": "markdown",
   "id": "ca8c6256-a804-4fe6-b7bd-11afe57b2564",
   "metadata": {},
   "source": [
    "<div style=\"border-left: 3px solid #000; padding: 1px; padding-left: 10px; background: #F0FAFF; \">\n",
    "\n",
    "For a given stimulus, we compare the distributions of activity correlations between the connected pairs with the activity correlations of all pairs."
   ]
  },
  {
   "cell_type": "code",
   "execution_count": null,
   "id": "297ae0df-b122-42d7-9b6b-a834d34209b7",
   "metadata": {},
   "outputs": [],
   "source": [
    "stim = stimulus_conditions[2]\n",
    "stim"
   ]
  },
  {
   "cell_type": "code",
   "execution_count": null,
   "id": "00ebd32c-1598-4bb1-ac58-debc48f5d0e6",
   "metadata": {},
   "outputs": [],
   "source": [
    "bins=np.linspace(-.1, .4, 26)\n",
    "\n",
    "fig, ax = plt.subplots(figsize=(8, 5))\n",
    "\n",
    "ax.set_title(stim, fontsize=18)\n",
    "\n",
    "sns.histplot(corr_coreg_proofread_df, x=stim, stat=\"probability\", bins=bins, element=\"step\", label=\"proofread pairs\", lw=3, fill=True, alpha=.5, color=\"k\")\n",
    "sns.histplot(conn_corr_df, x=stim, stat=\"probability\", bins=bins, element=\"step\", label=\"connected pairs\", lw=3, fill=True, alpha=.5, color=\"r\")\n",
    "\n",
    "ax.legend(frameon=False, fontsize=14)\n",
    "\n",
    "ax.tick_params(axis='both', which='major', labelsize=15, width=2, length=8)  # Set larger tick labels\n",
    "ax.tick_params(axis='both', which='minor', labelsize=14, width=1, length=4)  # Set larger tick labels\n",
    "\n",
    "ax.spines['top'].set_visible(False)  # Hide the top spine\n",
    "ax.spines['right'].set_visible(False)  # Hide the right spine\n",
    "ax.spines['bottom'].set_linewidth(2)  # Hide the top spine\n",
    "ax.spines['left'].set_linewidth(2)  # Hide the right spine\n",
    "\n",
    "ax.set_xlabel(\"Total trace correlation during stimulus\", fontsize=16)\n",
    "ax.set_ylabel(\"Fraction of neuron pairs\", fontsize=15)\n",
    "sns.despine(offset=15, trim=False)\n",
    "plt.tight_layout()\n",
    "\n",
    "plt.show()"
   ]
  },
  {
   "cell_type": "markdown",
   "id": "0c42f526-4977-4ef4-8e53-ef173e195f3e",
   "metadata": {},
   "source": [
    "<div style=\"border-left: 3px solid #000; padding: 1px; padding-left: 10px; background: #F0FAFF; \">\n",
    "\n",
    "Just like for the distance analysis above (#1), we can express this result as a \"connection probability\" for a given correlation. That is, how likely is it that two neurons are connected given their activity correlation? \n",
    "\n",
    "Here, we will calculate the connection probability bins of activity correlations."
   ]
  },
  {
   "cell_type": "code",
   "execution_count": null,
   "id": "4b40093d-b701-45f5-a894-e54d030bdf67",
   "metadata": {},
   "outputs": [],
   "source": [
    "bins = np.percentile(corr_coreg_proofread_df[stim], np.linspace(0, 100, 6)) # Makes 5 bins\n",
    "\n",
    "bin_centers = np.convolve(bins, [.5, .5], mode=\"valid\") # Calulates the center of each bin\n",
    "\n",
    "proofread_pair_counts = np.histogram(corr_coreg_proofread_df[stim], bins)[0]\n",
    "connected_pair_counts = np.histogram(conn_corr_df[stim], bins)[0]\n",
    "\n",
    "connection_probability = connected_pair_counts / (proofread_pair_counts + 1e-6)"
   ]
  },
  {
   "cell_type": "code",
   "execution_count": null,
   "id": "f61a4abf-43b2-416c-a4cf-701e746501e4",
   "metadata": {},
   "outputs": [],
   "source": [
    "fig, ax = plt.subplots(figsize=(7, 5))\n",
    "\n",
    "sns.lineplot(x=bin_centers, y=connection_probability, lw=3, ls=\"--\", legend=False, ax=ax, marker=\"o\", markersize=15)\n",
    "\n",
    "ax.legend(frameon=False, fontsize=14)\n",
    "ax.get_legend().set_bbox_to_anchor([1.1, 1])\n",
    "ax.tick_params(axis='both', which='major', labelsize=15, width=2, length=8)  # Set larger tick labels\n",
    "ax.tick_params(axis='both', which='minor', labelsize=14, width=1, length=4)  # Set larger tick labels\n",
    "\n",
    "ax.spines['top'].set_visible(False)  # Hide the top spine\n",
    "ax.spines['right'].set_visible(False)  # Hide the right spine\n",
    "ax.spines['bottom'].set_linewidth(2)  # Hide the top spine\n",
    "ax.spines['left'].set_linewidth(2)  # Hide the right spine\n",
    "\n",
    "ax.set_xlabel(\"Total trace correlation during stimulus\", fontsize=16)\n",
    "ax.set_ylabel(\"Connection probability\", fontsize=15)\n",
    "\n",
    "sns.despine(offset=15, trim=False)\n",
    "plt.tight_layout()\n",
    "plt.show()"
   ]
  },
  {
   "cell_type": "markdown",
   "id": "df3e37ad-9849-460e-a3b9-fec62e01f991",
   "metadata": {},
   "source": [
    "<div style=\"background: #DFF0D8; border-radius: 3px; padding: 10px;\">\n",
    "\n",
    "<p><b>Task:</b> Add the distributions for the other stimulus conditions into the same plot.\n",
    "\n",
    "</div>"
   ]
  },
  {
   "cell_type": "code",
   "execution_count": null,
   "id": "602eba76-cb46-4566-91b3-0571bc4f36ec",
   "metadata": {},
   "outputs": [],
   "source": [
    "fig, ax = plt.subplots(figsize=(11, 5))\n",
    "\n",
    "for stim in stimulus_conditions:\n",
    "    bins = np.percentile(corr_coreg_proofread_df[stim], np.linspace(0, 100, 6))#[[0, 1, -2, -1]]\n",
    "\n",
    "    bin_centers = np.convolve(bins, [.5, .5], mode=\"valid\")#[[0, -1]]\n",
    "    proofread_pair_counts = np.histogram(corr_coreg_proofread_df[stim], bins)[0]#[[0, -1]]\n",
    "    connected_pair_counts = np.histogram(conn_corr_df[stim], bins)[0]#[[0, -1]]\n",
    "    \n",
    "    connection_probability = connected_pair_counts / (proofread_pair_counts + 1e-6)\n",
    "    \n",
    "    sns.lineplot(x=bin_centers, y=connection_probability, lw=3, ls=\"--\", label=stim, legend=False, ax=ax, marker=\"o\", markersize=15)\n",
    "\n",
    "ax.legend(frameon=False, fontsize=14)\n",
    "ax.get_legend().set_bbox_to_anchor([1.1, 1])\n",
    "ax.tick_params(axis='both', which='major', labelsize=15, width=2, length=8)  # Set larger tick labels\n",
    "ax.tick_params(axis='both', which='minor', labelsize=14, width=1, length=4)  # Set larger tick labels\n",
    "\n",
    "ax.spines['top'].set_visible(False)  # Hide the top spine\n",
    "ax.spines['right'].set_visible(False)  # Hide the right spine\n",
    "ax.spines['bottom'].set_linewidth(2)  # Hide the top spine\n",
    "ax.spines['left'].set_linewidth(2)  # Hide the right spine\n",
    "\n",
    "ax.set_xlabel(\"Total trace correlation during stimulus\", fontsize=16)\n",
    "ax.set_ylabel(\"Connection probability\", fontsize=15)\n",
    "\n",
    "sns.despine(offset=15, trim=False)\n",
    "plt.tight_layout()\n",
    "plt.show()"
   ]
  },
  {
   "cell_type": "markdown",
   "id": "22a03a8c-d297-4f98-9412-729859b71585",
   "metadata": {},
   "source": [
    "<div style=\"border-left: 3px solid #000; padding: 1px; padding-left: 10px; background: #F0FAFF; \">\n",
    "\n",
    "### Summary\n",
    "\n",
    "We showed that for L3-IT cells\n",
    "\n",
    "1. neurons that are closer to each other, are more likely to be connected.\n",
    "2. neurons with more correlated activity traces, are more likely to be connected."
   ]
  },
  {
   "cell_type": "markdown",
   "id": "397591a1-f034-45c2-b873-c533a0cc6557",
   "metadata": {},
   "source": [
    "<div style=\"border-left: 3px solid #000; padding: 1px; padding-left: 10px; background: #F0FAFF; \">\n",
    "\n",
    "## A stronger NULL model: Can distance $\\rightarrow$ connectivity account for structure-function correlation\n",
    "\n",
    "So far we implicity used a _NULL model_ where all neuron pairs have the same likelihood to be connected. But we just showed that spatial separation alone increases the probability that two neurons are connected. Can this account for the correlation between activity correlation and connectivity?"
   ]
  },
  {
   "cell_type": "markdown",
   "id": "255028de-a439-4cb4-92ed-b2c3c25f2fe0",
   "metadata": {},
   "source": [
    "<div style=\"border-left: 3px solid #000; padding: 1px; padding-left: 10px; background: #F0FAFF; \">\n",
    "\n",
    "<b>Collecting data products:</b> Let's port the results from our previous analyses"
   ]
  },
  {
   "cell_type": "code",
   "execution_count": null,
   "id": "ad7d5861-6581-4b0b-92a4-ef7efb7a1484",
   "metadata": {},
   "outputs": [],
   "source": [
    "sub_cell_df = cell_df[cell_df[\"cell_type\"] == \"L3-IT\"]\n",
    "distance_bins = np.linspace(0, 500, 101)"
   ]
  },
  {
   "cell_type": "code",
   "execution_count": null,
   "id": "0cb4a822-a588-4657-8313-585466cef510",
   "metadata": {},
   "outputs": [],
   "source": [
    "# Connectivity\n",
    "\n",
    "pre_root_ids = sub_cell_df[\"pt_root_id\"][np.isin(sub_cell_df[\"pt_root_id\"], axon_proof_root_ids)]\n",
    "post_root_ids = sub_cell_df[\"pt_root_id\"][np.isin(sub_cell_df[\"pt_root_id\"], dendrite_proof_root_ids)]\n",
    "\n",
    "analysis_syn_df = filter_synapse_table(syn_df, axon_proof_root_ids, dendrite_proof_root_ids).reset_index(drop=True)\n",
    "conn_df = analysis_syn_df.groupby([\"pre_pt_root_id\", \"post_pt_root_id\"])[\"size\"].sum().reset_index()"
   ]
  },
  {
   "cell_type": "code",
   "execution_count": null,
   "id": "56d9bd0e-9b64-4bb6-a13d-05e102295a2c",
   "metadata": {},
   "outputs": [],
   "source": [
    "# Distance \n",
    "\n",
    "lateral_distance_df = calculate_lateral_distances(sub_cell_df)\n",
    "\n",
    "pre_root_ids = sub_cell_df[\"pt_root_id\"][np.isin(sub_cell_df[\"pt_root_id\"], axon_proof_root_ids)]\n",
    "post_root_ids = sub_cell_df[\"pt_root_id\"][np.isin(sub_cell_df[\"pt_root_id\"], dendrite_proof_root_ids)]\n",
    "\n",
    "analysis_syn_df = filter_synapse_table(syn_df, pre_root_ids, post_root_ids).reset_index(drop=True)\n",
    "conn_df = analysis_syn_df.groupby([\"pre_pt_root_id\", \"post_pt_root_id\"])[\"size\"].sum().reset_index()\n",
    "\n",
    "lateral_distance_proofread_df = lateral_distance_df.copy()\n",
    "lateral_distance_proofread_df = lateral_distance_proofread_df[np.isin(lateral_distance_proofread_df[\"pre_pt_root_id\"], pre_root_ids)]\n",
    "lateral_distance_proofread_df = lateral_distance_proofread_df[np.isin(lateral_distance_proofread_df[\"post_pt_root_id\"], post_root_ids)]"
   ]
  },
  {
   "cell_type": "code",
   "execution_count": null,
   "id": "963946dd-5dc0-4917-a8ad-61a3b794062b",
   "metadata": {},
   "outputs": [],
   "source": [
    "# Distance vs Connectivity\n",
    "\n",
    "conn_dist_df = pd.merge(conn_df, lateral_distance_df, on=[\"pre_pt_root_id\", \"post_pt_root_id\"])\n",
    "\n",
    "proofread_pair_counts = np.histogram(lateral_distance_proofread_df[\"distance\"], distance_bins)[0]\n",
    "connected_pair_counts = np.histogram(conn_dist_df[\"distance\"], distance_bins)[0]\n",
    "\n",
    "connection_probability = connected_pair_counts / proofread_pair_counts\n",
    "connection_probability_df = pd.DataFrame({\"bin_id\": np.arange(len(distance_bins)-1), \"probability\": connection_probability}).set_index(\"bin_id\")"
   ]
  },
  {
   "cell_type": "code",
   "execution_count": null,
   "id": "4aebeeaa-2b3f-42aa-a344-963585e3d158",
   "metadata": {},
   "outputs": [],
   "source": [
    "# Activity correlation\n",
    "\n",
    "corr_coreg_proofread_df = corr_coreg_df.copy()\n",
    "corr_coreg_proofread_df = corr_coreg_proofread_df[np.isin(corr_coreg_proofread_df[\"pre_pt_root_id\"], pre_root_ids)]\n",
    "corr_coreg_proofread_df = corr_coreg_proofread_df[np.isin(corr_coreg_proofread_df[\"post_pt_root_id\"], post_root_ids)]"
   ]
  },
  {
   "cell_type": "markdown",
   "id": "07c78c9c-cc09-4a27-8d0f-b33480074f3b",
   "metadata": {},
   "source": [
    "<div style=\"border-left: 3px solid #000; padding: 1px; padding-left: 10px; background: #F0FAFF; \">\n",
    "\n",
    "Let's combine our main free dataframes into one"
   ]
  },
  {
   "cell_type": "code",
   "execution_count": null,
   "id": "37482143-8a4f-4099-b5ba-22a9d7ca7593",
   "metadata": {},
   "outputs": [],
   "source": [
    "conn_df.head(5)"
   ]
  },
  {
   "cell_type": "code",
   "execution_count": null,
   "id": "d20ceb33-1a15-4acf-87c9-b8ac3833488a",
   "metadata": {},
   "outputs": [],
   "source": [
    "lateral_distance_proofread_df.head(5)"
   ]
  },
  {
   "cell_type": "code",
   "execution_count": null,
   "id": "59d5e53f-5081-48f1-b643-c96712e6a7a8",
   "metadata": {},
   "outputs": [],
   "source": [
    "corr_coreg_proofread_df.head(5)"
   ]
  },
  {
   "cell_type": "markdown",
   "id": "2eb773e2-9dde-48d8-9731-d7bd666b25dc",
   "metadata": {},
   "source": [
    "<div style=\"background: #DFF0D8; border-radius: 3px; padding: 10px;\">\n",
    "\n",
    "<p><b>Task:</b> Merge the three dataframes into one. Make sure not to loose any rows in the merging by using `how=\"left\"` or `how=\"right\"`. This is particularly important for the connectivity table. We can set the synapse size of the neuron pairs which are not connected to 0. \n",
    "\n",
    "</div>"
   ]
  },
  {
   "cell_type": "code",
   "execution_count": null,
   "id": "1685a488-25a4-43ea-9246-f9002b5b7c72",
   "metadata": {},
   "outputs": [],
   "source": [
    "# full_df = ..."
   ]
  },
  {
   "cell_type": "code",
   "execution_count": null,
   "id": "42494658-9720-4f2b-b00a-c2513a50caf3",
   "metadata": {},
   "outputs": [],
   "source": [
    "full_df = corr_coreg_proofread_df.copy()\n",
    "full_df = pd.merge(full_df, lateral_distance_proofread_df, on=[\"pre_pt_root_id\", \"post_pt_root_id\"])\n",
    "full_df = pd.merge(full_df, conn_df, on=[\"pre_pt_root_id\", \"post_pt_root_id\"], how=\"left\").fillna(0)"
   ]
  },
  {
   "cell_type": "code",
   "execution_count": null,
   "id": "6d727fa4-5a33-493c-a107-00b76a96eed7",
   "metadata": {},
   "outputs": [],
   "source": [
    "full_df[\"connected\"] = np.array(full_df[\"size\"] > 0)"
   ]
  },
  {
   "cell_type": "markdown",
   "id": "d2eaae40-e0ba-4c88-83ec-40a62f4adc44",
   "metadata": {},
   "source": [
    "<div style=\"border-left: 3px solid #000; padding: 1px; padding-left: 10px; background: #F0FAFF; \">\n",
    "\n",
    "<b>Measurement:</b> We will summarize the structure-function result with one value, the mean correlation of the cells in the connected and overall group."
   ]
  },
  {
   "cell_type": "code",
   "execution_count": null,
   "id": "a0d3f3e7-4d17-4153-8581-454b5d07794f",
   "metadata": {},
   "outputs": [],
   "source": [
    "full_df.groupby(\"connected\")[stimulus_conditions].mean()"
   ]
  },
  {
   "cell_type": "markdown",
   "id": "fe6bf202-83e1-4f0c-a75f-a14389e53f81",
   "metadata": {},
   "source": [
    "<div style=\"border-left: 3px solid #000; padding: 1px; padding-left: 10px; background: #F0FAFF; \">\n",
    "\n",
    "<b>Distance-based null model to sample connectomes:</b> Instead of using the not-connected neurons as our NULL model for comparison, we want to use our insight about the connection probabilities vs neuron distance to create a stronger NULL model. We will achieve this by sampling new \"connectomes\" based on the distance-based connection probabilities. For each new connectome, we will calculate the correlation of the connected (sampled) neurons.\n",
    "\n",
    "First, we assign probabilities to each potential connection:"
   ]
  },
  {
   "cell_type": "code",
   "execution_count": null,
   "id": "15e67ad1-c316-44a9-8b6d-f70bcf21e809",
   "metadata": {},
   "outputs": [],
   "source": [
    "connection_probability_df.head(5)"
   ]
  },
  {
   "cell_type": "code",
   "execution_count": null,
   "id": "babc5d79-c29f-461e-b5ba-247855ea786c",
   "metadata": {},
   "outputs": [],
   "source": [
    "assigned_distance_bins = np.digitize(full_df[\"distance\"], distance_bins)\n",
    "full_df[\"connection_probability\"] = np.array(connection_probability_df.loc[assigned_distance_bins])"
   ]
  },
  {
   "cell_type": "code",
   "execution_count": null,
   "id": "3222dbaa-2a07-4e03-b513-0e0ad98d1867",
   "metadata": {},
   "outputs": [],
   "source": [
    "full_df.head(5)"
   ]
  },
  {
   "cell_type": "markdown",
   "id": "a3efc2ce-504c-4898-9f29-97a9702ff86c",
   "metadata": {},
   "source": [
    "<div style=\"border-left: 3px solid #000; padding: 1px; padding-left: 10px; background: #F0FAFF; \">\n",
    "\n",
    "<b>Sampling connectomes:</b> We sample connectomes using `np.random.choice`. This function takes probabilities which have to sum to one as input as well as a number of samples that should be taken."
   ]
  },
  {
   "cell_type": "code",
   "execution_count": null,
   "id": "a66f605b-3089-4d2f-81f8-9d6dbddda9af",
   "metadata": {},
   "outputs": [],
   "source": [
    "full_df[\"connection_probability_norm\"] = full_df[\"connection_probability\"] / full_df[\"connection_probability\"].sum()"
   ]
  },
  {
   "cell_type": "code",
   "execution_count": null,
   "id": "ad228524-4d64-4d97-8b12-d50ccafd6175",
   "metadata": {},
   "outputs": [],
   "source": [
    "#Single run:\n",
    "\n",
    "full_sampled_df = full_df.copy()\n",
    "sampled_idx = np.random.choice(full_sampled_df.index, p=full_df[\"connection_probability_norm\"], size=np.sum(full_sampled_df[\"connected\"]))\n",
    "full_sampled_df[\"connected_sampled\"] = False\n",
    "full_sampled_df.loc[sampled_idx, \"connected_sampled\"] = True"
   ]
  },
  {
   "cell_type": "code",
   "execution_count": null,
   "id": "d87b1ce6-0b9d-42a7-a334-2a48f68c2d74",
   "metadata": {},
   "outputs": [],
   "source": [
    "full_sampled_df.loc[full_sampled_df[\"connected_sampled\"], stimulus_conditions].mean()"
   ]
  },
  {
   "cell_type": "markdown",
   "id": "0bc9f8f3-3835-454b-a11d-c6343a35f9d3",
   "metadata": {},
   "source": [
    "<div style=\"border-left: 3px solid #000; padding: 1px; padding-left: 10px; background: #F0FAFF; \">\n",
    "\n",
    "We repeat the sampling 10,000 times and combine the result in a DataFrame."
   ]
  },
  {
   "cell_type": "code",
   "execution_count": null,
   "id": "488d992e-7f58-485c-b62c-c0ce5cff7274",
   "metadata": {},
   "outputs": [],
   "source": [
    "sampled_means = []\n",
    "\n",
    "for _ in tqdm.tqdm(range(10_000)):\n",
    "    sampled_idx = np.random.choice(\n",
    "        full_sampled_df.index,\n",
    "        p=full_df[\"connection_probability_norm\"],\n",
    "        size=np.sum(full_sampled_df[\"connected\"])\n",
    "    )\n",
    "    \n",
    "    full_sampled_df[\"connected_sampled\"] = False\n",
    "    full_sampled_df.loc[sampled_idx, \"connected_sampled\"] = True\n",
    "    \n",
    "    means = full_sampled_df.loc[full_sampled_df[\"connected_sampled\"], stimulus_conditions].mean()\n",
    "    sampled_means.append(means)\n",
    "\n",
    "# Combine into a DataFrame (each row = one sample)\n",
    "sampled_means_df = pd.DataFrame(sampled_means)"
   ]
  },
  {
   "cell_type": "code",
   "execution_count": null,
   "id": "bcd9cb4a-31ce-49e4-8b7e-d461815e0198",
   "metadata": {},
   "outputs": [],
   "source": [
    "sampled_means_df.head(5)"
   ]
  },
  {
   "cell_type": "code",
   "execution_count": null,
   "id": "95345503-bef5-4bab-80f0-d9ef94d62fe1",
   "metadata": {},
   "outputs": [],
   "source": [
    "sampled_means_df.mean()"
   ]
  },
  {
   "cell_type": "markdown",
   "id": "f58330c9-4649-4cd6-85fb-ca7cde044783",
   "metadata": {},
   "source": [
    "<div style=\"border-left: 3px solid #000; padding: 1px; padding-left: 10px; background: #F0FAFF; \">\n",
    "\n",
    "With the results in hand, lets plot our distribution for a single stimulus condition."
   ]
  },
  {
   "cell_type": "code",
   "execution_count": null,
   "id": "2f0988f0-6639-4ee4-8a61-93e78de4ef2d",
   "metadata": {},
   "outputs": [],
   "source": [
    "stim = stimulus_conditions[2]\n",
    "stim"
   ]
  },
  {
   "cell_type": "code",
   "execution_count": null,
   "id": "82f9ac78-2b5f-42e9-8b64-2b717f23cec1",
   "metadata": {},
   "outputs": [],
   "source": [
    "fig, ax = plt.subplots(figsize=(8, 5))\n",
    "\n",
    "ax.set_title(stim, fontsize=18)\n",
    "\n",
    "sns.histplot(data=sampled_means_df, x=stim, stat=\"percent\", bins=101, element=\"step\", label=\"Distance-based\\nconnected samples\", \n",
    "             lw=3, fill=True, alpha=.5, color=\"k\")\n",
    "\n",
    "ax.legend(frameon=False, fontsize=14)\n",
    "\n",
    "ax.tick_params(axis='both', which='major', labelsize=15, width=2, length=8)  # Set larger tick labels\n",
    "ax.tick_params(axis='both', which='minor', labelsize=14, width=1, length=4)  # Set larger tick labels\n",
    "\n",
    "ax.spines['top'].set_visible(False)  # Hide the top spine\n",
    "ax.spines['right'].set_visible(False)  # Hide the right spine\n",
    "ax.spines['bottom'].set_linewidth(2)  # Hide the top spine\n",
    "ax.spines['left'].set_linewidth(2)  # Hide the right spine\n",
    "\n",
    "ax.set_xlabel(\"Total trace correlation during stimulus\", fontsize=16)\n",
    "ax.set_ylabel(\"Fraction of neuron pairs\", fontsize=15)\n",
    "sns.despine(offset=15, trim=False)\n",
    "plt.tight_layout()\n",
    "\n",
    "plt.show()"
   ]
  },
  {
   "cell_type": "markdown",
   "id": "c5136464-fd1b-4803-a5f0-9f027839c2c9",
   "metadata": {},
   "source": [
    "<div style=\"background: #DFF0D8; border-radius: 3px; padding: 10px;\">\n",
    "\n",
    "<p><b>Task:</b> How different is our distribution from the observed correlation of the connected neurons? Calculate the zscore between the observed result and the measured correlation of the connected neurons.\n",
    "\n",
    "</div>"
   ]
  },
  {
   "cell_type": "code",
   "execution_count": null,
   "id": "062ba521-cdad-4823-96c1-0d3775924277",
   "metadata": {},
   "outputs": [],
   "source": [
    "(full_df[full_df[\"connected\"]][stimulus_conditions].mean() - sampled_means_df.mean()) / sampled_means_df.std()"
   ]
  },
  {
   "cell_type": "markdown",
   "id": "4158812e-ab55-458c-a4d0-661307788ae7",
   "metadata": {},
   "source": [
    "<div style=\"border-left: 3px solid #000; padding: 1px; padding-left: 10px; background: #F0FAFF; \">\n",
    "\n",
    "Visualizing it all in one plot:"
   ]
  },
  {
   "cell_type": "code",
   "execution_count": null,
   "id": "22b64116-d541-4cbb-8b94-3e0cb7129ac7",
   "metadata": {},
   "outputs": [],
   "source": [
    "stim = stimulus_conditions[2]\n",
    "stim"
   ]
  },
  {
   "cell_type": "code",
   "execution_count": null,
   "id": "122cc684-b4fc-49be-af9f-49ec93473f5a",
   "metadata": {},
   "outputs": [],
   "source": [
    "zscore = (full_df[full_df[\"connected\"]][stim].mean() - sampled_means_df[stim].mean()) / sampled_means_df[stim].std()\n",
    "\n",
    "fig, ax = plt.subplots(figsize=(8, 5))\n",
    "\n",
    "ax.set_title(stim, fontsize=18)\n",
    "\n",
    "sns.histplot(data=sampled_means_df, x=stim, stat=\"percent\", bins=101, element=\"step\", label=\"Distance-based\\nconnected samples\", \n",
    "             lw=3, fill=True, alpha=.5, color=\"k\")\n",
    "\n",
    "ax.axvline(x=full_df[full_df[\"connected\"]][stim].mean(), color='r', linestyle='--', label='Observed:\\nConnected', lw=3)\n",
    "ax.axvline(x=full_df[~full_df[\"connected\"]][stim].mean(), color='b', linestyle='--', label='Observed:\\nNot connected', lw=3)\n",
    "\n",
    "ax.text(ax.get_xlim()[0], ax.get_ylim()[1] * .95, f\"Z-Score: {zscore:.2f}\", fontsize=14)\n",
    "\n",
    "ax.legend(frameon=False, fontsize=14)\n",
    "\n",
    "ax.tick_params(axis='both', which='major', labelsize=15, width=2, length=8)  # Set larger tick labels\n",
    "ax.tick_params(axis='both', which='minor', labelsize=14, width=1, length=4)  # Set larger tick labels\n",
    "\n",
    "ax.spines['top'].set_visible(False)  # Hide the top spine\n",
    "ax.spines['right'].set_visible(False)  # Hide the right spine\n",
    "ax.spines['bottom'].set_linewidth(2)  # Hide the top spine\n",
    "ax.spines['left'].set_linewidth(2)  # Hide the right spine\n",
    "\n",
    "ax.set_xlabel(\"Total trace correlation during stimulus\", fontsize=16)\n",
    "ax.set_ylabel(\"Fraction of neuron pairs\", fontsize=15)\n",
    "sns.despine(offset=15, trim=False)\n",
    "plt.tight_layout()\n",
    "\n",
    "plt.show()"
   ]
  }
 ],
 "metadata": {
  "kernelspec": {
   "display_name": "Python 3 (ipykernel)",
   "language": "python",
   "name": "python3"
  },
  "language_info": {
   "codemirror_mode": {
    "name": "ipython",
    "version": 3
   },
   "file_extension": ".py",
   "mimetype": "text/x-python",
   "name": "python",
   "nbconvert_exporter": "python",
   "pygments_lexer": "ipython3",
   "version": "3.12.10"
  }
 },
 "nbformat": 4,
 "nbformat_minor": 5
}
